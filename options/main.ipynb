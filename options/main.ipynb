{
 "cells": [
  {
   "cell_type": "code",
   "execution_count": 1,
   "metadata": {},
   "outputs": [],
   "source": [
    "from config import API_EODHD\n",
    "import pandas as pd\n",
    "import psycopg2\n",
    "import numpy as np\n",
    "import requests\n",
    "from bs4 import BeautifulSoup"
   ]
  },
  {
   "cell_type": "code",
   "execution_count": 50,
   "metadata": {},
   "outputs": [],
   "source": [
    "symbol = \"AAPL\"\n",
    "type_ = \"call\"\n",
    "strike_from = 150\n",
    "sort = \"exp_date\"\n",
    "url = f\"https://eodhd.com/api/mp/unicornbay/options/eod?filter[underlying_symbol]={symbol}&filter[type]={type_}&filter[strike_from]={strike_from}&sort={sort}&api_token={API_EODHD}\"\n",
    "res = requests.get(url)"
   ]
  },
  {
   "cell_type": "code",
   "execution_count": null,
   "metadata": {},
   "outputs": [],
   "source": []
  },
  {
   "cell_type": "code",
   "execution_count": 98,
   "metadata": {},
   "outputs": [],
   "source": [
    "start_date = \"2024-12-27\"\n",
    "end_date = \"2024-12-27\"\n",
    "underlying_symbol = \"AAPL\"\n",
    "url1 = f\"https://eodhd.com/api/mp/unicornbay/options/eod?filter[underlying_symbol]={underlying_symbol}&filter[exp_date_from]={start_date}&filter[exp_date_to]={end_date}&sort=-exp_date&api_token={API_EODHD}\"\n",
    "res1 = requests.get(url1)\n",
    "res_json1 = res1.json()\n",
    "res_json1.keys()\n",
    "data1 = res_json1['data']\n",
    "attributes1 = [i['attributes'] for i in data1]\n",
    "a1 = pd.DataFrame(attributes1)"
   ]
  },
  {
   "cell_type": "code",
   "execution_count": 2,
   "metadata": {},
   "outputs": [],
   "source": [
    "# insert data\n",
    "def insert_dataframe(cursor, conn, df, table_name=\"options_data\"):\n",
    "\n",
    "    # 替換 NaN 為 None，以便 PostgreSQL 可以正確處理 NULL 值\n",
    "    df = df.where(pd.notnull(df), None)\n",
    "\n",
    "    # 定義 SQL 插入語句\n",
    "    insert_sql = f\"\"\"\n",
    "    INSERT INTO {table_name} (\n",
    "        contract, underlying_symbol, exp_date, expiration_type, type, strike,\n",
    "        exchange, currency, open, high, low, last, last_size, change, pctchange, \n",
    "        previous, previous_date, bid, bid_date, bid_size, ask, ask_date, ask_size, \n",
    "        moneyness, volume, volume_change, volume_pctchange, open_interest, \n",
    "        open_interest_change, open_interest_pctchange, volatility, volatility_change, \n",
    "        volatility_pctchange, theoretical, delta, gamma, theta, vega, rho, tradetime, \n",
    "        vol_oi_ratio, dte, midpoint\n",
    "    ) VALUES (%s, %s, %s, %s, %s, %s, %s, %s, %s, %s, %s, %s, %s, %s, %s, %s, %s, %s, %s, %s, %s, %s, %s, %s, %s, %s, %s, %s, %s, %s, %s, %s, %s, %s, %s, %s, %s, %s, %s, %s, %s, %s, %s)\n",
    "    ON CONFLICT (contract) DO NOTHING;\n",
    "    \"\"\"  # `ON CONFLICT (contract) DO NOTHING` 避免插入重複數據\n",
    "\n",
    "    # 批量插入數據\n",
    "    data_tuples = [tuple(x) for x in df.to_numpy()]\n",
    "    cursor.executemany(insert_sql, data_tuples)\n",
    "\n",
    "    # 提交更改並關閉連接\n",
    "    conn.commit()"
   ]
  },
  {
   "cell_type": "code",
   "execution_count": 3,
   "metadata": {},
   "outputs": [],
   "source": [
    "class SymbolParams:\n",
    "    def __init__(self, underlying_symbol, start_date, end_date, type_):\n",
    "        self.underlying_symbol = underlying_symbol;\n",
    "        self.start_date = start_date\n",
    "        self.end_date = end_date\n",
    "        self.type_ = type_\n",
    "    def __str__(self):\n",
    "        return f\"SymbolParams(underlying_symbol={self.underlying_symbol}, start_date={self.start_date}, end_date={self.end_date}, type={self.type_})\"\n"
   ]
  },
  {
   "cell_type": "code",
   "execution_count": 4,
   "metadata": {},
   "outputs": [],
   "source": [
    "import yfinance as yf\n",
    "from tqdm import tqdm\n",
    "def calculate_price_at_certain_delta(a1: pd.DataFrame, da='2024-01-16', delta=0.2):\n",
    "    s = a1[(a1['tradetime'] == da) & (a1['delta'].between(delta-0.19, delta+0.19))]\n",
    "    if len(s) >= 1: pass\n",
    "    higher = s[s['delta'] > delta]\n",
    "    lower = s[s['delta'] < delta]\n",
    "    if len(higher) == 0 or len(lower) == 0: return None;\n",
    "    below = lower.sort_values(by='delta', ascending=False).iloc[0, :] # Max delta below 0.2\n",
    "    above = higher.sort_values(by='delta', ascending=True).iloc[0, :]\n",
    "\n",
    "    if below.empty or above.empty:\n",
    "        return None\n",
    "    else:\n",
    "        # Linear interpolation for price at delta = 0.2\n",
    "        x1, y1 = below['delta'], below['strike']\n",
    "        x2, y2 = above['delta'], above['strike']\n",
    "        price_at_02 = y1 + (delta - x1) * (y2 - y1) / (x2 - x1)\n",
    "        return price_at_02\n",
    "    \n",
    "def calculate_daily_bias(a1, da, underlying_assets_stock_price=185.91):\n",
    "    _p20 = calculate_price_at_certain_delta(a1, da, 0.2)\n",
    "    _n20 = calculate_price_at_certain_delta(a1, da, -0.2)\n",
    "    if not _p20 or not _n20: return None;\n",
    "    ratio = (_p20 - underlying_assets_stock_price)/(underlying_assets_stock_price-_n20)\n",
    "    return ratio\n",
    "\n",
    "def get_delta_factors_in_year(underlying_symbol, date_end):\n",
    "    # get conn\n",
    "    DB_HOST = 'localhost'\n",
    "    DB_NAME = 'us'\n",
    "    DB_USER = 'postgres'\n",
    "    DB_PASS = 'buddyrich134'\n",
    "    def get_db_connection():\n",
    "        conn = psycopg2.connect(host=DB_HOST, dbname=DB_NAME, user=DB_USER, password=DB_PASS)\n",
    "        return conn\n",
    "    conn = get_db_connection()\n",
    "    cursor = conn.cursor()\n",
    "\n",
    "    # get exp_dates\n",
    "    # sqlStr = \"SELECT exp_date from expiration_dates where exp_date >= '2024-01-01' and exp_date <= '2024-12-31'\";\n",
    "    sqlStr = f\"SELECT exp_date from expiration_dates where exp_date >= '2024-01-01' and exp_date <= '{date_end}'\";\n",
    "    cursor.execute(sqlStr)\n",
    "    conn.commit()\n",
    "    exp_date_array_dt = cursor.fetchall()\n",
    "    exp_date_array = np.array([i[0].strftime(\"%Y-%m-%d\") for i in exp_date_array_dt])\n",
    "    \n",
    "    # get stock price\n",
    "    df = yf.download(underlying_symbol, start='2023-12-01', progress=False)\n",
    "    print(underlying_symbol, df.index[-1])\n",
    "    date_factor_dict = {}\n",
    "    \n",
    "    for date in tqdm(exp_date_array[:]):\n",
    "        symbol = SymbolParams(underlying_symbol, date, date, \"call\")\n",
    "        url = f\"https://eodhd.com/api/mp/unicornbay/options/eod?filter[underlying_symbol]={symbol.underlying_symbol}&filter[exp_date_from]={symbol.start_date}&filter[exp_date_to]={symbol.end_date}&sort=-exp_date&api_token={API_EODHD}\"\n",
    "        res = requests.get(url)\n",
    "        res_json = res.json()\n",
    "        res_json.keys()\n",
    "        data = res_json['data']\n",
    "        attributes = [i['attributes'] for i in data]\n",
    "        a = pd.DataFrame(attributes)\n",
    "        insert_dataframe(cursor, conn, a, table_name='options_data')\n",
    "        tradetime_date_list = sorted(list(set(a['tradetime'].dropna())))\n",
    "        for date in tradetime_date_list[:-1]:\n",
    "            try:\n",
    "                underlying_assets_stock_price = df.loc[:date].iloc[-2]['Close']\n",
    "                factor = calculate_daily_bias(a, date, underlying_assets_stock_price)\n",
    "                if factor is not None: date_factor_dict[date] = factor\n",
    "            except:\n",
    "                print(date, underlying_symbol)\n",
    "                print(df.loc[:date])\n",
    "    return date_factor_dict"
   ]
  },
  {
   "cell_type": "code",
   "execution_count": 5,
   "metadata": {},
   "outputs": [],
   "source": [
    "def insert_delta_factor_into_db(cursor, conn, factor_dict, symbol):\n",
    "    factor_name = \"option_delta20_using_prev_close\"\n",
    "    # 插入數據\n",
    "    insert_query = \"\"\"\n",
    "        INSERT INTO factors (trade_date, factor_name, symbol, factor)\n",
    "        VALUES (%s, %s, %s, %s)\n",
    "        ON CONFLICT (trade_date, factor_name, symbol)\n",
    "        DO UPDATE SET factor = EXCLUDED.factor;\n",
    "    \"\"\"\n",
    "    \n",
    "    # 批量插入\n",
    "    for date, factor_value in factor_dict.items():\n",
    "        cursor.execute(insert_query, (date, factor_name, symbol, float(factor_value)))  # np.float64 轉 float\n",
    "    conn.commit()\n",
    "# get conn\n",
    "DB_HOST = 'localhost'\n",
    "DB_NAME = 'us'\n",
    "DB_USER = 'postgres'\n",
    "DB_PASS = 'buddyrich134'\n",
    "def get_db_connection():\n",
    "    conn = psycopg2.connect(host=DB_HOST, dbname=DB_NAME, user=DB_USER, password=DB_PASS)\n",
    "    return conn\n",
    "conn = get_db_connection()\n",
    "cursor = conn.cursor()\n",
    "cursor.execute(\"SELECT distinct code from public.maincode where listed = 'us30';\")\n",
    "conn.commit()\n",
    "code_list_30 = np.array([i[0] for i in cursor.fetchall() if i != 'DIA'])"
   ]
  },
  {
   "cell_type": "code",
   "execution_count": 6,
   "metadata": {},
   "outputs": [
    {
     "name": "stderr",
     "output_type": "stream",
     "text": [
      "  0%|          | 0/31 [00:00<?, ?it/s]"
     ]
    },
    {
     "name": "stdout",
     "output_type": "stream",
     "text": [
      "MMM 2025-02-07 00:00:00\n"
     ]
    },
    {
     "name": "stderr",
     "output_type": "stream",
     "text": [
      "100%|██████████| 59/59 [01:52<00:00,  1.91s/it]\n",
      "  3%|▎         | 1/31 [01:53<56:33, 113.10s/it]"
     ]
    },
    {
     "name": "stdout",
     "output_type": "stream",
     "text": [
      "UNH 2025-02-07 00:00:00\n"
     ]
    },
    {
     "name": "stderr",
     "output_type": "stream",
     "text": [
      "100%|██████████| 59/59 [01:52<00:00,  1.91s/it]\n",
      "  6%|▋         | 2/31 [03:46<54:36, 112.99s/it]"
     ]
    },
    {
     "name": "stdout",
     "output_type": "stream",
     "text": [
      "MRK 2025-02-07 00:00:00\n"
     ]
    },
    {
     "name": "stderr",
     "output_type": "stream",
     "text": [
      "100%|██████████| 59/59 [01:41<00:00,  1.72s/it]\n",
      " 10%|▉         | 3/31 [05:27<50:22, 107.95s/it]"
     ]
    },
    {
     "name": "stdout",
     "output_type": "stream",
     "text": [
      "KO 2025-02-07 00:00:00\n"
     ]
    },
    {
     "name": "stderr",
     "output_type": "stream",
     "text": [
      "100%|██████████| 59/59 [02:31<00:00,  2.56s/it]\n",
      " 13%|█▎        | 4/31 [07:59<56:16, 125.05s/it]"
     ]
    },
    {
     "name": "stdout",
     "output_type": "stream",
     "text": [
      "CRM 2025-02-07 00:00:00\n"
     ]
    },
    {
     "name": "stderr",
     "output_type": "stream",
     "text": []
    },
    {
     "name": "stdout",
     "output_type": "stream",
     "text": [
      "2023-10-18 CRM\n",
      "Empty DataFrame\n",
      "Columns: [Open, High, Low, Close, Adj Close, Volume]\n",
      "Index: []\n",
      "2023-12-03 CRM\n",
      "             Open        High         Low  Close   Adj Close    Volume\n",
      "Date                                                                  \n",
      "2023-12-01  250.0  263.429993  249.699997  260.0  258.555878  14530700\n"
     ]
    },
    {
     "name": "stderr",
     "output_type": "stream",
     "text": [
      "100%|██████████| 59/59 [02:17<00:00,  2.34s/it]\n",
      " 16%|█▌        | 5/31 [10:17<56:15, 129.82s/it]"
     ]
    },
    {
     "name": "stdout",
     "output_type": "stream",
     "text": [
      "V 2025-02-07 00:00:00\n"
     ]
    },
    {
     "name": "stderr",
     "output_type": "stream",
     "text": []
    },
    {
     "name": "stdout",
     "output_type": "stream",
     "text": [
      "2022-11-30 V\n",
      "Empty DataFrame\n",
      "Columns: [Open, High, Low, Close, Adj Close, Volume]\n",
      "Index: []\n"
     ]
    },
    {
     "name": "stderr",
     "output_type": "stream",
     "text": [
      "100%|██████████| 59/59 [01:49<00:00,  1.86s/it]\n",
      " 19%|█▉        | 6/31 [12:07<51:14, 122.99s/it]"
     ]
    },
    {
     "name": "stdout",
     "output_type": "stream",
     "text": [
      "TRV 2025-02-07 00:00:00\n"
     ]
    },
    {
     "name": "stderr",
     "output_type": "stream",
     "text": [
      "  0%|          | 0/59 [00:00<?, ?it/s]\n",
      " 19%|█▉        | 6/31 [12:08<50:33, 121.35s/it]\n"
     ]
    },
    {
     "ename": "KeyError",
     "evalue": "'tradetime'",
     "output_type": "error",
     "traceback": [
      "\u001b[0;31m---------------------------------------------------------------------------\u001b[0m",
      "\u001b[0;31mKeyError\u001b[0m                                  Traceback (most recent call last)",
      "Cell \u001b[0;32mIn[6], line 2\u001b[0m\n\u001b[1;32m      1\u001b[0m \u001b[38;5;28;01mfor\u001b[39;00m symbol \u001b[38;5;129;01min\u001b[39;00m tqdm(code_list_30):\n\u001b[0;32m----> 2\u001b[0m     date_factor_dict \u001b[38;5;241m=\u001b[39m \u001b[43mget_delta_factors_in_year\u001b[49m\u001b[43m(\u001b[49m\u001b[43msymbol\u001b[49m\u001b[43m,\u001b[49m\u001b[43m \u001b[49m\u001b[43mdate_end\u001b[49m\u001b[38;5;241;43m=\u001b[39;49m\u001b[38;5;124;43m'\u001b[39;49m\u001b[38;5;124;43m2025-02-14\u001b[39;49m\u001b[38;5;124;43m'\u001b[39;49m\u001b[43m)\u001b[49m\n\u001b[1;32m      3\u001b[0m     insert_delta_factor_into_db(cursor, conn, date_factor_dict, symbol)\n",
      "Cell \u001b[0;32mIn[4], line 63\u001b[0m, in \u001b[0;36mget_delta_factors_in_year\u001b[0;34m(underlying_symbol, date_end)\u001b[0m\n\u001b[1;32m     61\u001b[0m a \u001b[38;5;241m=\u001b[39m pd\u001b[38;5;241m.\u001b[39mDataFrame(attributes)\n\u001b[1;32m     62\u001b[0m insert_dataframe(cursor, conn, a, table_name\u001b[38;5;241m=\u001b[39m\u001b[38;5;124m'\u001b[39m\u001b[38;5;124moptions_data\u001b[39m\u001b[38;5;124m'\u001b[39m)\n\u001b[0;32m---> 63\u001b[0m tradetime_date_list \u001b[38;5;241m=\u001b[39m \u001b[38;5;28msorted\u001b[39m(\u001b[38;5;28mlist\u001b[39m(\u001b[38;5;28mset\u001b[39m(\u001b[43ma\u001b[49m\u001b[43m[\u001b[49m\u001b[38;5;124;43m'\u001b[39;49m\u001b[38;5;124;43mtradetime\u001b[39;49m\u001b[38;5;124;43m'\u001b[39;49m\u001b[43m]\u001b[49m\u001b[38;5;241m.\u001b[39mdropna())))\n\u001b[1;32m     64\u001b[0m \u001b[38;5;28;01mfor\u001b[39;00m date \u001b[38;5;129;01min\u001b[39;00m tradetime_date_list[:\u001b[38;5;241m-\u001b[39m\u001b[38;5;241m1\u001b[39m]:\n\u001b[1;32m     65\u001b[0m     \u001b[38;5;28;01mtry\u001b[39;00m:\n",
      "File \u001b[0;32m~/Library/Python/3.9/lib/python/site-packages/pandas/core/frame.py:4102\u001b[0m, in \u001b[0;36mDataFrame.__getitem__\u001b[0;34m(self, key)\u001b[0m\n\u001b[1;32m   4100\u001b[0m \u001b[38;5;28;01mif\u001b[39;00m \u001b[38;5;28mself\u001b[39m\u001b[38;5;241m.\u001b[39mcolumns\u001b[38;5;241m.\u001b[39mnlevels \u001b[38;5;241m>\u001b[39m \u001b[38;5;241m1\u001b[39m:\n\u001b[1;32m   4101\u001b[0m     \u001b[38;5;28;01mreturn\u001b[39;00m \u001b[38;5;28mself\u001b[39m\u001b[38;5;241m.\u001b[39m_getitem_multilevel(key)\n\u001b[0;32m-> 4102\u001b[0m indexer \u001b[38;5;241m=\u001b[39m \u001b[38;5;28;43mself\u001b[39;49m\u001b[38;5;241;43m.\u001b[39;49m\u001b[43mcolumns\u001b[49m\u001b[38;5;241;43m.\u001b[39;49m\u001b[43mget_loc\u001b[49m\u001b[43m(\u001b[49m\u001b[43mkey\u001b[49m\u001b[43m)\u001b[49m\n\u001b[1;32m   4103\u001b[0m \u001b[38;5;28;01mif\u001b[39;00m is_integer(indexer):\n\u001b[1;32m   4104\u001b[0m     indexer \u001b[38;5;241m=\u001b[39m [indexer]\n",
      "File \u001b[0;32m~/Library/Python/3.9/lib/python/site-packages/pandas/core/indexes/range.py:417\u001b[0m, in \u001b[0;36mRangeIndex.get_loc\u001b[0;34m(self, key)\u001b[0m\n\u001b[1;32m    415\u001b[0m         \u001b[38;5;28;01mraise\u001b[39;00m \u001b[38;5;167;01mKeyError\u001b[39;00m(key) \u001b[38;5;28;01mfrom\u001b[39;00m \u001b[38;5;21;01merr\u001b[39;00m\n\u001b[1;32m    416\u001b[0m \u001b[38;5;28;01mif\u001b[39;00m \u001b[38;5;28misinstance\u001b[39m(key, Hashable):\n\u001b[0;32m--> 417\u001b[0m     \u001b[38;5;28;01mraise\u001b[39;00m \u001b[38;5;167;01mKeyError\u001b[39;00m(key)\n\u001b[1;32m    418\u001b[0m \u001b[38;5;28mself\u001b[39m\u001b[38;5;241m.\u001b[39m_check_indexing_error(key)\n\u001b[1;32m    419\u001b[0m \u001b[38;5;28;01mraise\u001b[39;00m \u001b[38;5;167;01mKeyError\u001b[39;00m(key)\n",
      "\u001b[0;31mKeyError\u001b[0m: 'tradetime'"
     ]
    }
   ],
   "source": [
    "for symbol in tqdm(code_list_30):\n",
    "    date_factor_dict = get_delta_factors_in_year(symbol, date_end='2025-02-14')\n",
    "    insert_delta_factor_into_db(cursor, conn, date_factor_dict, symbol)\n",
    "    "
   ]
  },
  {
   "cell_type": "code",
   "execution_count": null,
   "metadata": {},
   "outputs": [],
   "source": [
    "import plotly.graph_objects as go\n",
    "from plotly.subplots import make_subplots\n",
    "import pandas as pd\n",
    "df = yf.download(\"JNJ\", start='2023-12-01', end=\"2024-12-31\")\n",
    "date_factor_pd = pd.DataFrame([date_factor_dict]).T\n",
    "date_factor_pd.columns = ['signal']\n",
    "date_factor_pd['price'] = df['Close'].loc[date_factor_pd.index[0]:date_factor_pd.index[-1]]\n",
    "date_factor_pd['pct'] = np.log(date_factor_pd['price']/date_factor_pd['price'].shift(1)).shift(-1)\n",
    "# date_factor_pd['strat'] = date_factor_pd.apply(lambda row: row['pct'] if row['signal'] > 1 else -row['pct'], axis=1)\n",
    "date_factor_pd['strat'] = date_factor_pd.apply(lambda row: row['pct'] if row['signal'] > 1 else 0, axis=1)\n",
    "date_factor_pd['strat_signal_1_0'] = date_factor_pd['signal'].apply(lambda x: 1 if x > 1 else 0)\n",
    "# date_factor_pd['strat'].cumsum().plot()\n",
    "\n",
    "\n",
    "fig = make_subplots(rows=3, cols=1, shared_xaxes=True, vertical_spacing=0.1,\n",
    "                     subplot_titles=\"GS\")\n",
    "\n",
    "date_factor_pd['diff'] = date_factor_pd['strat'].cumsum() - date_factor_pd['pct'].cumsum()\n",
    "fig.add_trace(go.Scatter(\n",
    "    x=date_factor_pd.index,\n",
    "    y=date_factor_pd['pct'].cumsum(),\n",
    "    mode='lines',\n",
    "    name='bm'\n",
    "), row=1, col=1)\n",
    "\n",
    "fig.add_trace(go.Scatter(\n",
    "    x=date_factor_pd.index,\n",
    "    y=date_factor_pd['strat'].cumsum() * 0.95,\n",
    "    mode='lines',\n",
    "    name='strat'\n",
    "), row=1, col=1)\n",
    "\n",
    "fig.add_trace(go.Scatter(\n",
    "    x=date_factor_pd.index,\n",
    "    y=date_factor_pd['diff'],\n",
    "    mode='lines',\n",
    "    name='exceed return'\n",
    "), row=1, col=1)\n",
    "\n",
    "\n",
    "fig.add_trace(go.Scatter(\n",
    "    x=date_factor_pd.index,\n",
    "    y=date_factor_pd['signal'],\n",
    "    mode='lines',\n",
    "    name='Signal'\n",
    "), row=2, col=1)\n",
    "\n",
    "fig.add_trace(go.Scatter(\n",
    "    x=date_factor_pd.index,\n",
    "    y=date_factor_pd['strat_signal_1_0'],\n",
    "    mode='lines',\n",
    "    name='Signal'\n",
    "), row=3, col=1)\n",
    "\n",
    "fig.update_layout(\n",
    "    title=\"GS\",\n",
    "    template=\"plotly_white\",\n",
    "    height=800,\n",
    "    width=1200\n",
    ")\n"
   ]
  },
  {
   "cell_type": "code",
   "execution_count": null,
   "metadata": {},
   "outputs": [],
   "source": [
    "# CREATE TABLE factors (\n",
    "#     trade_date DATE,\n",
    "#     factor_name CHAR(50),\n",
    "#     symbol CHAR(50),\n",
    "#     factor FLOAT\n",
    "    \n",
    "# );\n",
    "# ALTER TABLE factors ADD CONSTRAINT unique_trade_factor_symbol UNIQUE (trade_date, factor_name, symbol);"
   ]
  },
  {
   "cell_type": "code",
   "execution_count": null,
   "metadata": {},
   "outputs": [],
   "source": [
    "# CREATE TABLE expiration_dates (\n",
    "#     id SERIAL PRIMARY KEY,\n",
    "#     exp_date DATE UNIQUE  -- Ensures unique expiration dates\n",
    "# );\n"
   ]
  },
  {
   "cell_type": "code",
   "execution_count": null,
   "metadata": {},
   "outputs": [],
   "source": [
    "# CREATE TABLE options_data (\n",
    "#     contract TEXT PRIMARY KEY,         -- 合約名稱（設為 PRIMARY KEY）\n",
    "#     underlying_symbol TEXT,            -- 標的代號\n",
    "#     exp_date DATE,                     -- 到期日\n",
    "#     expiration_type TEXT,               -- 到期類型\n",
    "#     type TEXT,                          -- 選擇權類型（Call/Put）\n",
    "#     strike DOUBLE PRECISION,            -- 履約價\n",
    "#     exchange TEXT,                      -- 交易所\n",
    "#     currency TEXT,                      -- 貨幣\n",
    "#     open DOUBLE PRECISION,              -- 開盤價\n",
    "#     high DOUBLE PRECISION,              -- 最高價\n",
    "#     low DOUBLE PRECISION,               -- 最低價\n",
    "#     last DOUBLE PRECISION,              -- 最新成交價\n",
    "#     last_size BIGINT,                   -- 最新成交數量\n",
    "#     change DOUBLE PRECISION,            -- 價格變動\n",
    "#     pctchange DOUBLE PRECISION,         -- 價格變動百分比\n",
    "#     previous DOUBLE PRECISION,          -- 前一交易日收盤價\n",
    "#     previous_date DATE,                 -- 前一交易日日期（NULLABLE）\n",
    "#     bid DOUBLE PRECISION,               -- 買價\n",
    "#     bid_date TEXT,                      -- 買價更新時間（可以是TEXT）\n",
    "#     bid_size BIGINT,                    -- 買單數量\n",
    "#     ask DOUBLE PRECISION,               -- 賣價\n",
    "#     ask_date TEXT,                      -- 賣價更新時間（可以是TEXT）\n",
    "#     ask_size BIGINT,                    -- 賣單數量\n",
    "#     moneyness DOUBLE PRECISION,         -- Moneyness 值\n",
    "#     volume BIGINT,                      -- 成交量\n",
    "#     volume_change BIGINT,               -- 成交量變動\n",
    "#     volume_pctchange DOUBLE PRECISION,  -- 成交量變動百分比\n",
    "#     open_interest BIGINT,               -- 未平倉量\n",
    "#     open_interest_change BIGINT,        -- 未平倉量變動\n",
    "#     open_interest_pctchange DOUBLE PRECISION, -- 未平倉量變動百分比\n",
    "#     volatility DOUBLE PRECISION,        -- 隱含波動率\n",
    "#     volatility_change DOUBLE PRECISION, -- 波動率變動\n",
    "#     volatility_pctchange DOUBLE PRECISION, -- 波動率變動百分比\n",
    "#     theoretical DOUBLE PRECISION,       -- 理論價格\n",
    "#     delta DOUBLE PRECISION,             -- Delta\n",
    "#     gamma DOUBLE PRECISION,             -- Gamma\n",
    "#     theta DOUBLE PRECISION,             -- Theta\n",
    "#     vega DOUBLE PRECISION,              -- Vega\n",
    "#     rho DOUBLE PRECISION,               -- Rho\n",
    "#     tradetime TEXT,                     -- 交易時間\n",
    "#     vol_oi_ratio DOUBLE PRECISION,      -- 成交量 / 未平倉比\n",
    "#     dte BIGINT,                         -- 到期天數\n",
    "#     midpoint DOUBLE PRECISION           -- 買賣價中間值\n",
    "# );\n",
    "\n",
    "# ALTER TABLE options_data \n",
    "# ALTER COLUMN last_size TYPE DOUBLE PRECISION,\n",
    "# ALTER COLUMN bid_size TYPE DOUBLE PRECISION,\n",
    "# ALTER COLUMN ask_size TYPE DOUBLE PRECISION,\n",
    "# ALTER COLUMN volume TYPE DOUBLE PRECISION,\n",
    "# ALTER COLUMN volume_change TYPE DOUBLE PRECISION,\n",
    "# ALTER COLUMN open_interest TYPE DOUBLE PRECISION,\n",
    "# ALTER COLUMN open_interest_change TYPE DOUBLE PRECISION,\n",
    "# ALTER COLUMN dte TYPE DOUBLE PRECISION;"
   ]
  },
  {
   "cell_type": "code",
   "execution_count": null,
   "metadata": {},
   "outputs": [],
   "source": [
    "# functions to create database\n",
    "DB_HOST = 'localhost'\n",
    "DB_NAME = 'us'\n",
    "DB_USER = 'postgres'\n",
    "DB_PASS = 'buddyrich134'\n",
    "def get_db_connection():\n",
    "    conn = psycopg2.connect(host=DB_HOST, dbname=DB_NAME, user=DB_USER, password=DB_PASS)\n",
    "    return conn\n",
    "\n",
    "\n",
    "conn = get_db_connection()\n",
    "cursor = conn.cursor()\n",
    "\n",
    "cursor.executemany(\n",
    "    \"INSERT INTO expiration_dates (exp_date) VALUES (%s) ON CONFLICT (exp_date) DO NOTHING\",\n",
    "    [(d,) for d in exp_date_array]\n",
    ")\n",
    "conn.commit()"
   ]
  },
  {
   "cell_type": "code",
   "execution_count": null,
   "metadata": {},
   "outputs": [],
   "source": []
  }
 ],
 "metadata": {
  "kernelspec": {
   "display_name": "Python 3",
   "language": "python",
   "name": "python3"
  },
  "language_info": {
   "codemirror_mode": {
    "name": "ipython",
    "version": 3
   },
   "file_extension": ".py",
   "mimetype": "text/x-python",
   "name": "python",
   "nbconvert_exporter": "python",
   "pygments_lexer": "ipython3",
   "version": "3.9.6"
  }
 },
 "nbformat": 4,
 "nbformat_minor": 2
}
