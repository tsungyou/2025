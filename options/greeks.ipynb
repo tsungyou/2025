{
 "cells": [
  {
   "cell_type": "code",
   "execution_count": 34,
   "metadata": {},
   "outputs": [
    {
     "name": "stdout",
     "output_type": "stream",
     "text": [
      "Implied Volatility: 0.49\n"
     ]
    }
   ],
   "source": [
    "import numpy as np\n",
    "from scipy.stats import norm\n",
    "from scipy.optimize import brentq\n",
    "\n",
    "def black_scholes_call_price(S, K, T, r, sigma):\n",
    "    \"\"\"\n",
    "    計算Black-Scholes看漲期權價格\n",
    "    \"\"\"\n",
    "    d1 = (np.log(S / K) + (r + 0.5 * sigma ** 2) * T) / (sigma * np.sqrt(T))\n",
    "    d2 = d1 - sigma * np.sqrt(T)\n",
    "    call_price = S * norm.cdf(d1) - K * np.exp(-r * T) * norm.cdf(d2)\n",
    "    return call_price\n",
    "\n",
    "def implied_volatility_call(S, K, T, r, market_price):\n",
    "    \"\"\"\n",
    "    使用牛頓法反向計算隱含波動率\n",
    "    \"\"\"\n",
    "    # 定義誤差函數\n",
    "    def error_function(sigma):\n",
    "        return black_scholes_call_price(S, K, T, r, sigma) - market_price\n",
    "    \n",
    "    # 檢查在範圍端點的誤差函數值\n",
    "    f_a = error_function(1e-1)\n",
    "    f_b = error_function(5.0)\n",
    "    \n",
    "    if f_a * f_b > 0:\n",
    "        print(f\"Error: The function values at the boundaries have the same sign. f(1e-6)={f_a}, f(5.0)={f_b}\")\n",
    "        return None  # 返回 None 如果誤差函數兩端符號相同\n",
    "    \n",
    "    # 使用brentq方法來求解隱含波動率，這是對誤差函數進行零點求解\n",
    "    implied_vol = brentq(error_function, 1e-7, 5.0)  # 這裡設定了波動率的範圍(從1e-6到5.0)\n",
    "    return implied_vol\n",
    "\n",
    "# 範例\n",
    "S = 100   # 標的資產價格\n",
    "K = 90    # 行使價\n",
    "T = 30 / 365  # 到期時間（30天）\n",
    "r = 0.05  # 無風險利率（5%）\n",
    "market_price = 12  # 市場上給定的選擇權價格\n",
    "# 計算隱含波動率\n",
    "implied_vol = implied_volatility_call(S, K, T, r, market_price)\n",
    "\n",
    "if implied_vol is not None:\n",
    "    print(f\"Implied Volatility: {implied_vol:.2f}\")\n"
   ]
  }
 ],
 "metadata": {
  "kernelspec": {
   "display_name": "Python 3",
   "language": "python",
   "name": "python3"
  },
  "language_info": {
   "codemirror_mode": {
    "name": "ipython",
    "version": 3
   },
   "file_extension": ".py",
   "mimetype": "text/x-python",
   "name": "python",
   "nbconvert_exporter": "python",
   "pygments_lexer": "ipython3",
   "version": "3.9.6"
  }
 },
 "nbformat": 4,
 "nbformat_minor": 2
}
