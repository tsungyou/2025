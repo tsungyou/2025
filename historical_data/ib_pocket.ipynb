{
 "cells": [
  {
   "cell_type": "code",
   "execution_count": 1,
   "metadata": {},
   "outputs": [
    {
     "name": "stdout",
     "output_type": "stream",
     "text": [
      "reqId: -1, errorCode: 2104, errorString: Market data farm connection is OK:usfarm, orderReject: \n",
      "reqId: -1, errorCode: 2106, errorString: HMDS data farm connection is OK:euhmds, orderReject: \n",
      "reqId: -1, errorCode: 2106, errorString: HMDS data farm connection is OK:cashhmds, orderReject: \n",
      "reqId: -1, errorCode: 2106, errorString: HMDS data farm connection is OK:fundfarm, orderReject: \n",
      "reqId: -1, errorCode: 2106, errorString: HMDS data farm connection is OK:ushmds, orderReject: \n",
      "reqId: -1, errorCode: 2158, errorString: Sec-def data farm connection is OK:secdefnj, orderReject: \n"
     ]
    },
    {
     "name": "stdout",
     "output_type": "stream",
     "text": [
      "reqId: 2, errorCode: 162, errorString: Historical Market Data Service error message:No historical market data for 2186/STK@NYSENBBO Last 1d, orderReject: \n",
      "reqId: 5, errorCode: 162, errorString: Historical Market Data Service error message:HMDS query returned no data: AAPB@SMART Trades, orderReject: \n",
      "reqId: 6, errorCode: 162, errorString: Historical Market Data Service error message:HMDS query returned no data: AAPD@SMART Trades, orderReject: \n",
      "reqId: 4, errorCode: 2176, errorString: Warning: Your API version does not support fractional share size rules. Please upgrade to a minimum version 163. Trimmed value 171.65 to 171, orderReject: \n",
      "reqId: 8, errorCode: 162, errorString: Historical Market Data Service error message:HMDS query returned no data: AAPU@SMART Trades, orderReject: \n",
      "reqId: 3, errorCode: 2176, errorString: Warning: Your API version does not support fractional share size rules. Please upgrade to a minimum version 163. Trimmed value 4177.39 to 4177, orderReject: \n",
      "reqId: 7, errorCode: 162, errorString: Historical Market Data Service error message:HMDS query returned no data: AAPR@SMART Trades, orderReject: \n",
      "reqId: 52, errorCode: 200, errorString: No security definition has been found for the request, orderReject: \n",
      "reqId: 11, errorCode: 2176, errorString: Warning: Your API version does not support fractional share size rules. Please upgrade to a minimum version 163. Trimmed value 10456.92 to 10456, orderReject: \n",
      "reqId: 13, errorCode: 2176, errorString: Warning: Your API version does not support fractional share size rules. Please upgrade to a minimum version 163. Trimmed value 163.88 to 163, orderReject: \n",
      "reqId: 21, errorCode: 2176, errorString: Warning: Your API version does not support fractional share size rules. Please upgrade to a minimum version 163. Trimmed value 23438.6 to 23438, orderReject: \n",
      "reqId: 23, errorCode: 2176, errorString: Warning: Your API version does not support fractional share size rules. Please upgrade to a minimum version 163. Trimmed value 7869.1 to 7869, orderReject: \n",
      "reqId: 16, errorCode: 2176, errorString: Warning: Your API version does not support fractional share size rules. Please upgrade to a minimum version 163. Trimmed value 393.21 to 393, orderReject: \n",
      "reqId: 50, errorCode: 2176, errorString: Warning: Your API version does not support fractional share size rules. Please upgrade to a minimum version 163. Trimmed value 135.94 to 135, orderReject: \n",
      "reqId: 54, errorCode: 2176, errorString: Warning: Your API version does not support fractional share size rules. Please upgrade to a minimum version 163. Trimmed value 995.67 to 995, orderReject: \n",
      "reqId: 19, errorCode: 2176, errorString: Warning: Your API version does not support fractional share size rules. Please upgrade to a minimum version 163. Trimmed value 156.75 to 156, orderReject: \n",
      "reqId: 20, errorCode: 2176, errorString: Warning: Your API version does not support fractional share size rules. Please upgrade to a minimum version 163. Trimmed value 31.88 to 31, orderReject: \n",
      "reqId: 22, errorCode: 2176, errorString: Warning: Your API version does not support fractional share size rules. Please upgrade to a minimum version 163. Trimmed value 1697.95 to 1697, orderReject: \n",
      "reqId: 24, errorCode: 2176, errorString: Warning: Your API version does not support fractional share size rules. Please upgrade to a minimum version 163. Trimmed value 144.31 to 144, orderReject: \n",
      "reqId: 61, errorCode: 2176, errorString: Warning: Your API version does not support fractional share size rules. Please upgrade to a minimum version 163. Trimmed value 190.46 to 190, orderReject: \n",
      "reqId: 26, errorCode: 2176, errorString: Warning: Your API version does not support fractional share size rules. Please upgrade to a minimum version 163. Trimmed value 238.42 to 238, orderReject: \n",
      "reqId: 29, errorCode: 2176, errorString: Warning: Your API version does not support fractional share size rules. Please upgrade to a minimum version 163. Trimmed value 32.97 to 32, orderReject: \n",
      "reqId: 31, errorCode: 2176, errorString: Warning: Your API version does not support fractional share size rules. Please upgrade to a minimum version 163. Trimmed value 88.17 to 88, orderReject: \n",
      "reqId: 33, errorCode: 2176, errorString: Warning: Your API version does not support fractional share size rules. Please upgrade to a minimum version 163. Trimmed value 99.77 to 99, orderReject: \n",
      "reqId: 34, errorCode: 2176, errorString: Warning: Your API version does not support fractional share size rules. Please upgrade to a minimum version 163. Trimmed value 1.01 to 1, orderReject: \n",
      "reqId: 35, errorCode: 2176, errorString: Warning: Your API version does not support fractional share size rules. Please upgrade to a minimum version 163. Trimmed value 4.11 to 4, orderReject: \n",
      "reqId: 36, errorCode: 2176, errorString: Warning: Your API version does not support fractional share size rules. Please upgrade to a minimum version 163. Trimmed value 5.85 to 5, orderReject: \n",
      "reqId: 40, errorCode: 2176, errorString: Warning: Your API version does not support fractional share size rules. Please upgrade to a minimum version 163. Trimmed value 3957.42 to 3957, orderReject: \n",
      "reqId: 37, errorCode: 2176, errorString: Warning: Your API version does not support fractional share size rules. Please upgrade to a minimum version 163. Trimmed value 30807.46 to 30807, orderReject: \n",
      "reqId: 49, errorCode: 2176, errorString: Warning: Your API version does not support fractional share size rules. Please upgrade to a minimum version 163. Trimmed value 234.63 to 234, orderReject: \n",
      "reqId: 69, errorCode: 200, errorString: No security definition has been found for the request, orderReject: \n",
      "reqId: 46, errorCode: 2176, errorString: Warning: Your API version does not support fractional share size rules. Please upgrade to a minimum version 163. Trimmed value 8509.18 to 8509, orderReject: \n",
      "reqId: 82, errorCode: 200, errorString: No security definition has been found for the request, orderReject: \n",
      "reqId: 63, errorCode: 2176, errorString: Warning: Your API version does not support fractional share size rules. Please upgrade to a minimum version 163. Trimmed value 61.79 to 61, orderReject: \n",
      "reqId: 83, errorCode: 200, errorString: No security definition has been found for the request, orderReject: \n",
      "reqId: 74, errorCode: 2176, errorString: Warning: Your API version does not support fractional share size rules. Please upgrade to a minimum version 163. Trimmed value 159.84 to 159, orderReject: \n",
      "reqId: 73, errorCode: 2176, errorString: Warning: Your API version does not support fractional share size rules. Please upgrade to a minimum version 163. Trimmed value 215.71 to 215, orderReject: \n",
      "reqId: 81, errorCode: 2176, errorString: Warning: Your API version does not support fractional share size rules. Please upgrade to a minimum version 163. Trimmed value 28294.33 to 28294, orderReject: \n",
      "reqId: 86, errorCode: 200, errorString: No security definition has been found for the request, orderReject: \n",
      "reqId: 84, errorCode: 2176, errorString: Warning: Your API version does not support fractional share size rules. Please upgrade to a minimum version 163. Trimmed value 42.78 to 42, orderReject: \n",
      "reqId: 87, errorCode: 2176, errorString: Warning: Your API version does not support fractional share size rules. Please upgrade to a minimum version 163. Trimmed value 97.24 to 97, orderReject: \n",
      "reqId: 88, errorCode: 2176, errorString: Warning: Your API version does not support fractional share size rules. Please upgrade to a minimum version 163. Trimmed value 1389.05 to 1389, orderReject: \n",
      "reqId: 75, errorCode: 2176, errorString: Warning: Your API version does not support fractional share size rules. Please upgrade to a minimum version 163. Trimmed value 2.3 to 2, orderReject: \n",
      "reqId: 25, errorCode: 2176, errorString: Warning: Your API version does not support fractional share size rules. Please upgrade to a minimum version 163. Trimmed value 5.52 to 5, orderReject: \n",
      "reqId: 53, errorCode: 2176, errorString: Warning: Your API version does not support fractional share size rules. Please upgrade to a minimum version 163. Trimmed value 1.4 to 1, orderReject: \n",
      "reqId: 94, errorCode: 2176, errorString: Warning: Your API version does not support fractional share size rules. Please upgrade to a minimum version 163. Trimmed value 29.65 to 29, orderReject: \n",
      "reqId: 95, errorCode: 2176, errorString: Warning: Your API version does not support fractional share size rules. Please upgrade to a minimum version 163. Trimmed value 12111.47 to 12111, orderReject: \n",
      "reqId: 96, errorCode: 2176, errorString: Warning: Your API version does not support fractional share size rules. Please upgrade to a minimum version 163. Trimmed value 508.25 to 508, orderReject: \n",
      "reqId: 99, errorCode: 2176, errorString: Warning: Your API version does not support fractional share size rules. Please upgrade to a minimum version 163. Trimmed value 4586.86 to 4586, orderReject: \n",
      "reqId: 100, errorCode: 2176, errorString: Warning: Your API version does not support fractional share size rules. Please upgrade to a minimum version 163. Trimmed value 1310.34 to 1310, orderReject: \n",
      "reqId: 101, errorCode: 2176, errorString: Warning: Your API version does not support fractional share size rules. Please upgrade to a minimum version 163. Trimmed value 933.46 to 933, orderReject: \n",
      "reqId: 55, errorCode: 162, errorString: Historical Market Data Service error message:HMDS query returned no data: AIBD@SMART Trades, orderReject: \n",
      "reqId: 41, errorCode: 162, errorString: Historical Market Data Service error message:HMDS query returned no data: AGIH@SMART Trades, orderReject: \n",
      "reqId: 70, errorCode: 162, errorString: Historical Market Data Service error message:HMDS query returned no data: AJAN@SMART Trades, orderReject: \n",
      "reqId: 27, errorCode: 162, errorString: Historical Market Data Service error message:HMDS query returned no data: ADPV@SMART Trades, orderReject: \n",
      "reqId: 72, errorCode: 162, errorString: Historical Market Data Service error message:HMDS query returned no data: ALAI@SMART Trades, orderReject: \n",
      "reqId: 103, errorCode: 162, errorString: Historical Market Data Service error message:HMDS query returned no data: WHTX@SMART Trades, orderReject: \n",
      "reqId: 68, errorCode: 162, errorString: Historical Market Data Service error message:HMDS query returned no data: AIYY@SMART Trades, orderReject: \n",
      "reqId: 42, errorCode: 162, errorString: Historical Market Data Service error message:HMDS query returned no data: AGIX@SMART Trades, orderReject: \n"
     ]
    }
   ],
   "source": [
    "from ibapi.client import *\n",
    "from ibapi.wrapper import *\n",
    "import datetime\n",
    "import time\n",
    "import threading\n",
    "\n",
    "\n",
    "from ibapi.contract import Contract\n",
    "from ibapi.client import EClient\n",
    "from ibapi.wrapper import EWrapper\n",
    "import psycopg2\n",
    "from time import sleep\n",
    "import pandas as pd\n",
    "port = 7496\n",
    "\n",
    "class TestApp(EClient, EWrapper):\n",
    "    def __init__(self):\n",
    "        EClient.__init__(self, self)\n",
    "        self.orderId = 0\n",
    "        self.list_ = []\n",
    "        etf = pd.read_csv(\"a.csv\")\n",
    "        self.etfList = list(etf.code)[:]\n",
    "        self.index = 0\n",
    "        self.curCode = self.etfList[self.index]\n",
    "        # self.tw_maincode_offshore_list = \n",
    "    def nextValidId(self, orderId):\n",
    "        self.orderId = orderId\n",
    "    def nextId(self):\n",
    "        self.orderId += 1\n",
    "        return self.orderId\n",
    "\n",
    "    def error(self, reqId, errorCode, errorString, advancedOrderReject=\"\"):\n",
    "        print(f\"reqId: {reqId}, errorCode: {errorCode}, errorString: {errorString}, orderReject: {advancedOrderReject}\")\n",
    "\n",
    "    def historicalData(self, reqId, bar):\n",
    "        bar = bar.to_dict()\n",
    "        bar['symbol'] = self.curCode\n",
    "        self.list_.append(bar)\n",
    "    def historicalDataEnd(self, reqId, start, end):\n",
    "        self.cancelHistoricalData(reqId)\n",
    "        self.index += 1\n",
    "        self.curCode = self.etfList[self.index]\n",
    "    def loop(self):\n",
    "        for i in self.etfList:\n",
    "            mycontract = Contract()\n",
    "            mycontract.symbol = i\n",
    "            mycontract.secType = \"STK\"\n",
    "            mycontract.exchange = \"SMART\"\n",
    "            mycontract.currency = \"USD\"\n",
    "            nextId = app.nextId()\n",
    "            app.reqHistoricalData(nextId, mycontract, \"20211229 09:00:00 US/Eastern\", \"1 Y\", \"1 day\", \"TRADES\", 1, 1, False, [])\n",
    "app = TestApp()\n",
    "app.connect(\"127.0.0.1\", port, 0)\n",
    "threading.Thread(target=app.run).start()\n",
    "time.sleep(1)"
   ]
  },
  {
   "cell_type": "code",
   "execution_count": 2,
   "metadata": {},
   "outputs": [],
   "source": [
    "app.loop()  "
   ]
  },
  {
   "cell_type": "code",
   "execution_count": 3,
   "metadata": {},
   "outputs": [
    {
     "data": {
      "text/plain": [
       "(623316, 623316)"
      ]
     },
     "execution_count": 3,
     "metadata": {},
     "output_type": "execute_result"
    }
   ],
   "source": [
    "te = pd.DataFrame(app.list_)\n",
    "k = list(set(te['symbol']))\n",
    "len(te), len(k)\n",
    "te_f = te.drop_duplicates(subset=[\"symbol\", \"date\"])\n",
    "te_f = te_f.iloc[:, [0,1, 2, 3, 4, 5, -1]]\n",
    "te_f['date'] = pd.to_datetime(te_f['date'])\n",
    "# te_f.to_parquet(\"2025_v1_tickers_test.parquet\")\n",
    "len(te), len(te_f)"
   ]
  },
  {
   "cell_type": "code",
   "execution_count": 5,
   "metadata": {},
   "outputs": [
    {
     "name": "stderr",
     "output_type": "stream",
     "text": [
      "Inserting rows: 100%|██████████| 623316/623316 [14:23<00:00, 722.05it/s] "
     ]
    },
    {
     "name": "stdout",
     "output_type": "stream",
     "text": [
      "Data inserted successfully!\n"
     ]
    },
    {
     "name": "stderr",
     "output_type": "stream",
     "text": [
      "\n"
     ]
    }
   ],
   "source": [
    "import psycopg2 # type: ignore\n",
    "import matplotlib.pyplot as plt # type: ignore\n",
    "import pandas as pd # type: ignore\n",
    "from tqdm import tqdm # type: ignore\n",
    "import numpy as np # type: ignore\n",
    "config = {\n",
    "    \"host\": \"10.188.200.16\",\n",
    "    \"dbname\": \"us\",\n",
    "    \"user\": \"jimmy\",\n",
    "    \"password\": \"123123\"\n",
    "}\n",
    "conn = psycopg2.connect(**config)\n",
    "cursor = conn.cursor()\n",
    "\n",
    "# # price\n",
    "# sqlStr = \"\"\"\n",
    "# CREATE TABLE price_ib (\n",
    "#     da DATE NOT NULL,                 \n",
    "#     op DOUBLE PRECISION NOT NULL,     \n",
    "#     hi DOUBLE PRECISION NOT NULL,     \n",
    "#     lo DOUBLE PRECISION NOT NULL,     \n",
    "#     cl DOUBLE PRECISION NOT NULL,     \n",
    "#     vol DOUBLE PRECISION NOT NULL,    \n",
    "#     code CHAR(50) NOT NULL,           \n",
    "#     PRIMARY KEY (code, da),           \n",
    "#     CHECK (op >= 0),                  \n",
    "#     CHECK (hi >= 0),                  \n",
    "#     CHECK (lo >= 0),                  \n",
    "#     CHECK (cl >= 0),                  \n",
    "#     CHECK (vol >= 0)                  \n",
    "# );\n",
    "# \"\"\"\n",
    "# cursor.execute(sqlStr)\n",
    "# conn.commit()\n",
    "# print(\"database created\")\n",
    "sqlStr = f\"\"\"\n",
    "    INSERT INTO price_ib (da, op, hi, lo, cl, vol, code)\n",
    "    VALUES (%s, %s, %s, %s, %s, %s, %s)\n",
    "\"\"\"\n",
    "data_to_insert = [tuple(row) for row in te_f.iloc[:, :].itertuples(index=False, name=None)]\n",
    "\n",
    "try:\n",
    "    for row in tqdm(data_to_insert, desc=\"Inserting rows\"):\n",
    "        cursor.execute(sqlStr, row)\n",
    "    \n",
    "    # Commit the transaction\n",
    "    conn.commit()\n",
    "    print(\"Data inserted successfully!\")\n",
    "except Exception as e:\n",
    "    # Rollback in case of error\n",
    "    conn.rollback()\n",
    "    print(f\"Error: {e}\")"
   ]
  },
  {
   "cell_type": "code",
   "execution_count": null,
   "metadata": {},
   "outputs": [],
   "source": [
    "# test for missed symbols\n",
    "k = list(set(te['symbol']))\n",
    "for i in app.etfList[:]:\n",
    "    if i not in k: print(i)"
   ]
  },
  {
   "cell_type": "code",
   "execution_count": null,
   "metadata": {},
   "outputs": [],
   "source": [
    "mycontract = Contract()\n",
    "mycontract.symbol = \"AAA\"\n",
    "mycontract.secType = \"STK\"\n",
    "mycontract.exchange = \"SMART\"\n",
    "mycontract.currency = \"USD\"\n",
    "app.reqHistoricalData(app.nextId(), mycontract, \"20250120 09:00:00 US/Eastern\", \"1 Y\", \"1 day\", \"TRADES\", 1, 1, False, [])\n"
   ]
  }
 ],
 "metadata": {
  "kernelspec": {
   "display_name": "Python 3",
   "language": "python",
   "name": "python3"
  },
  "language_info": {
   "codemirror_mode": {
    "name": "ipython",
    "version": 3
   },
   "file_extension": ".py",
   "mimetype": "text/x-python",
   "name": "python",
   "nbconvert_exporter": "python",
   "pygments_lexer": "ipython3",
   "version": "3.9.6"
  }
 },
 "nbformat": 4,
 "nbformat_minor": 2
}
