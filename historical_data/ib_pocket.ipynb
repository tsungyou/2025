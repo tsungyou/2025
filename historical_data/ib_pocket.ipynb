{
 "cells": [
  {
   "cell_type": "code",
   "execution_count": 1,
   "metadata": {},
   "outputs": [
    {
     "name": "stdout",
     "output_type": "stream",
     "text": [
      "reqId: -1, errorCode: 2104, errorString: Market data farm connection is OK:usfarm.nj, orderReject: \n",
      "reqId: -1, errorCode: 2104, errorString: Market data farm connection is OK:hfarm, orderReject: \n",
      "reqId: -1, errorCode: 2104, errorString: Market data farm connection is OK:cashfarm, orderReject: \n",
      "reqId: -1, errorCode: 2104, errorString: Market data farm connection is OK:usopt, orderReject: \n",
      "reqId: -1, errorCode: 2104, errorString: Market data farm connection is OK:usfarm, orderReject: \n",
      "reqId: -1, errorCode: 2106, errorString: HMDS data farm connection is OK:euhmds, orderReject: \n",
      "reqId: -1, errorCode: 2106, errorString: HMDS data farm connection is OK:fundfarm, orderReject: \n",
      "reqId: -1, errorCode: 2106, errorString: HMDS data farm connection is OK:ushmds, orderReject: \n",
      "reqId: -1, errorCode: 2158, errorString: Sec-def data farm connection is OK:secdefnj, orderReject: \n"
     ]
    },
    {
     "name": "stdout",
     "output_type": "stream",
     "text": [
      "reqId: 2, errorCode: 200, errorString: The destination or exchange selected is Invalid. Please review your order's \"Destination\" field. If using a <br>Directed order, review the exchange selected when creating the order ticket or order row. This may occur when <br>creating stock orders for the overnight session or when creating option orders for the overnight session., orderReject: \n",
      "reqId: 3, errorCode: 10314, errorString: End Date/Time: The date, time, or time-zone entered is invalid. The correct format is yyyymmdd hh:mm:ss xx/xxxx where yyyymmdd and xx/xxxx are optional. E.g.: 20031126 15:59:00 US/Eastern  Note that there is a space between the date and time, and between the time and time-zone.  If no date is specified, current date is assumed. If no time-zone is specified, local time-zone is assumed(deprecated).  You can also provide yyyymmddd-hh:mm:ss time is in UTC. Note that there is a dash between the date and time in UTC notation., orderReject: \n",
      "reqId: 5, errorCode: 10314, errorString: End Date/Time: The date, time, or time-zone entered is invalid. The correct format is yyyymmdd hh:mm:ss xx/xxxx where yyyymmdd and xx/xxxx are optional. E.g.: 20031126 15:59:00 US/Eastern  Note that there is a space between the date and time, and between the time and time-zone.  If no date is specified, current date is assumed. If no time-zone is specified, local time-zone is assumed(deprecated).  You can also provide yyyymmddd-hh:mm:ss time is in UTC. Note that there is a dash between the date and time in UTC notation., orderReject: \n"
     ]
    }
   ],
   "source": [
    "from ibapi.client import *\n",
    "from ibapi.wrapper import *\n",
    "import datetime\n",
    "import time\n",
    "import threading\n",
    "\n",
    "\n",
    "from ibapi.contract import Contract\n",
    "from ibapi.client import EClient\n",
    "from ibapi.wrapper import EWrapper\n",
    "import psycopg2\n",
    "from time import sleep\n",
    "import pandas as pd\n",
    "port = 7496\n",
    "\n",
    "class TestApp(EClient, EWrapper):\n",
    "    def __init__(self):\n",
    "        EClient.__init__(self, self)\n",
    "        self.orderId = 0\n",
    "        self.list_ = []\n",
    "        # etf = pd.read_csv(\"a.csv\")\n",
    "        # self.etfList = list(etf.code)[:]\n",
    "        etf = pd.read_csv(\"../st/hk_list.csv\")\n",
    "        self.etfList = list(etf.iloc[:, 2])[:]\n",
    "        self.etfList = [i.split(\".\")[0] for i in self.etfList]\n",
    "        self.index = 0\n",
    "        self.curCode = self.etfList[self.index]\n",
    "        # self.tw_maincode_offshore_list = \n",
    "    def nextValidId(self, orderId):\n",
    "        self.orderId = orderId\n",
    "    def nextId(self):\n",
    "        self.orderId += 1\n",
    "        return self.orderId\n",
    "\n",
    "    def error(self, reqId, errorCode, errorString, advancedOrderReject=\"\"):\n",
    "        print(f\"reqId: {reqId}, errorCode: {errorCode}, errorString: {errorString}, orderReject: {advancedOrderReject}\")\n",
    "\n",
    "    def historicalData(self, reqId, bar):\n",
    "        bar = bar.to_dict()\n",
    "        bar['symbol'] = self.curCode\n",
    "        self.list_.append(bar)\n",
    "    def historicalDataEnd(self, reqId, start, end):\n",
    "        self.cancelHistoricalData(reqId)\n",
    "        self.index += 1\n",
    "        self.curCode = self.etfList[self.index]\n",
    "    def loop(self):\n",
    "        for i in self.etfList:\n",
    "            mycontract = Contract()\n",
    "            mycontract.symbol = i\n",
    "            mycontract.secType = \"STK\"\n",
    "            mycontract.exchange = \"SEHK\"\n",
    "            mycontract.currency = \"HKD\"\n",
    "            nextId = app.nextId()\n",
    "            app.reqHistoricalData(nextId, mycontract, \"20240128 09:00:00 US/Eastern\", \"1 Y\", \"1 day\", \"TRADES\", 1, 1, False, [])\n",
    "app = TestApp()\n",
    "app.connect(\"127.0.0.1\", port, 0)\n",
    "threading.Thread(target=app.run).start()\n",
    "time.sleep(1)"
   ]
  },
  {
   "cell_type": "code",
   "execution_count": 8,
   "metadata": {},
   "outputs": [
    {
     "name": "stdout",
     "output_type": "stream",
     "text": [
      "reqId: 8, errorCode: 504, errorString: Not connected, orderReject: \n"
     ]
    }
   ],
   "source": [
    "mycontract = Contract()\n",
    "mycontract.symbol = \"1101\"\n",
    "mycontract.secType = \"STK\"\n",
    "mycontract.exchange = \"SEHK\"\n",
    "mycontract.currency = \"HKD\"\n",
    "app.reqHistoricalData(app.nextId(), mycontract, \"20250101 09:00:00 US/Eastern\", \"1 W\", \"1 day\", \"TRADES\", 1, 1, False, [])\n"
   ]
  },
  {
   "cell_type": "code",
   "execution_count": null,
   "metadata": {},
   "outputs": [],
   "source": [
    "app.loop()  "
   ]
  },
  {
   "cell_type": "code",
   "execution_count": null,
   "metadata": {},
   "outputs": [],
   "source": [
    "te = pd.DataFrame(app.list_)\n",
    "k = list(set(te['symbol']))\n",
    "len(te), len(k)\n",
    "te_f = te.drop_duplicates(subset=[\"symbol\", \"date\"])\n",
    "te_f = te_f.iloc[:, [0,1, 2, 3, 4, 5, -1]]\n",
    "te_f['date'] = pd.to_datetime(te_f['date'])\n",
    "# te_f.to_parquet(\"2025_v1_tickers_test.parquet\")\n",
    "len(te), len(te_f)"
   ]
  },
  {
   "cell_type": "code",
   "execution_count": null,
   "metadata": {},
   "outputs": [],
   "source": [
    "import psycopg2 # type: ignore\n",
    "import matplotlib.pyplot as plt # type: ignore\n",
    "import pandas as pd # type: ignore\n",
    "from tqdm import tqdm # type: ignore\n",
    "import numpy as np # type: ignore\n",
    "config = {\n",
    "    \"host\": \"10.188.200.16\",\n",
    "    \"dbname\": \"us\",\n",
    "    \"user\": \"jimmy\",\n",
    "    \"password\": \"123123\"\n",
    "}\n",
    "conn = psycopg2.connect(**config)\n",
    "cursor = conn.cursor()\n",
    "\n",
    "# # price\n",
    "# sqlStr = \"\"\"\n",
    "# CREATE TABLE price_ib (\n",
    "#     da DATE NOT NULL,                 \n",
    "#     op DOUBLE PRECISION NOT NULL,     \n",
    "#     hi DOUBLE PRECISION NOT NULL,     \n",
    "#     lo DOUBLE PRECISION NOT NULL,     \n",
    "#     cl DOUBLE PRECISION NOT NULL,     \n",
    "#     vol DOUBLE PRECISION NOT NULL,    \n",
    "#     code CHAR(50) NOT NULL,           \n",
    "#     PRIMARY KEY (code, da),           \n",
    "#     CHECK (op >= 0),                  \n",
    "#     CHECK (hi >= 0),                  \n",
    "#     CHECK (lo >= 0),                  \n",
    "#     CHECK (cl >= 0),                  \n",
    "#     CHECK (vol >= 0)                  \n",
    "# );\n",
    "# \"\"\"\n",
    "# cursor.execute(sqlStr)\n",
    "# conn.commit()\n",
    "# print(\"database created\")\n",
    "sqlStr = f\"\"\"\n",
    "    INSERT INTO price_ib (da, op, hi, lo, cl, vol, code)\n",
    "    VALUES (%s, %s, %s, %s, %s, %s, %s)\n",
    "\"\"\"\n",
    "data_to_insert = [tuple(row) for row in te_f.iloc[:, :].itertuples(index=False, name=None)]\n",
    "\n",
    "try:\n",
    "    for row in tqdm(data_to_insert, desc=\"Inserting rows\"):\n",
    "        cursor.execute(sqlStr, row)\n",
    "    \n",
    "    # Commit the transaction\n",
    "    conn.commit()\n",
    "    print(\"Data inserted successfully!\")\n",
    "except Exception as e:\n",
    "    # Rollback in case of error\n",
    "    conn.rollback()\n",
    "    print(f\"Error: {e}\")"
   ]
  },
  {
   "cell_type": "code",
   "execution_count": null,
   "metadata": {},
   "outputs": [],
   "source": [
    "# test for missed symbols\n",
    "k = list(set(te['symbol']))\n",
    "for i in app.etfList[:]:\n",
    "    if i not in k: print(i)"
   ]
  },
  {
   "cell_type": "code",
   "execution_count": 2,
   "metadata": {},
   "outputs": [],
   "source": [
    "mycontract = Contract()\n",
    "mycontract.symbol = \"1101\"\n",
    "mycontract.secType = \"STK\"\n",
    "mycontract.exchange = \"HKEX\"\n",
    "mycontract.currency = \"HKD\"\n",
    "app.reqHistoricalData(app.nextId(), mycontract, \"20250120 09:00:00 US/Eastern\", \"1 Y\", \"1 day\", \"TRADES\", 1, 1, False, [])\n"
   ]
  }
 ],
 "metadata": {
  "kernelspec": {
   "display_name": "Python 3",
   "language": "python",
   "name": "python3"
  },
  "language_info": {
   "codemirror_mode": {
    "name": "ipython",
    "version": 3
   },
   "file_extension": ".py",
   "mimetype": "text/x-python",
   "name": "python",
   "nbconvert_exporter": "python",
   "pygments_lexer": "ipython3",
   "version": "3.9.6"
  }
 },
 "nbformat": 4,
 "nbformat_minor": 2
}
