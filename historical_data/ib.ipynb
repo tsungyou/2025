{
 "cells": [
  {
   "cell_type": "code",
   "execution_count": null,
   "metadata": {},
   "outputs": [],
   "source": [
    "from ibapi.client import *\n",
    "from ibapi.wrapper import *\n",
    "import datetime\n",
    "import time\n",
    "import threading\n",
    "\n",
    "\n",
    "from ibapi.contract import Contract\n",
    "from ibapi.client import EClient\n",
    "from ibapi.wrapper import EWrapper\n",
    "import psycopg2\n",
    "from time import sleep\n",
    "import pandas as pd\n",
    "DB_HOST = 'localhost'\n",
    "DB_NAME = 'us'\n",
    "DB_USER = 'postgres'\n",
    "DB_PASS = 'buddyrich134'\n",
    "conn = psycopg2.connect(host=DB_HOST, dbname=DB_NAME, user=DB_USER, password=DB_PASS)\n",
    "cursor = conn.cursor()\n",
    "port = 7496\n",
    "\n",
    "class TestApp(EClient, EWrapper):\n",
    "    def __init__(self):\n",
    "        EClient.__init__(self, self)\n",
    "        self.orderId = 0\n",
    "        self.list_ = []\n",
    "        etf = pd.read_csv(\"a.csv\")\n",
    "        self.etfList = list(etf.code)[:]\n",
    "        self.index = 0\n",
    "        self.curCode = self.etfList[self.index]\n",
    "    def nextValidId(self, orderId):\n",
    "        self.orderId = orderId\n",
    "    def nextId(self):\n",
    "        self.orderId += 1\n",
    "        return self.orderId\n",
    "    \n",
    "    def error(self, reqId, errorCode, errorString, advancedOrderReject=\"\"):\n",
    "        print(f\"reqId: {reqId}, errorCode: {errorCode}, errorString: {errorString}, orderReject: {advancedOrderReject}\")\n",
    "\n",
    "    def historicalData(self, reqId, bar):\n",
    "        bar = bar.to_dict()\n",
    "        bar['symbol'] = self.curCode\n",
    "        self.list_.append(bar)\n",
    "    def historicalDataEnd(self, reqId, start, end):\n",
    "        self.cancelHistoricalData(reqId)\n",
    "        self.index += 1\n",
    "        self.curCode = self.etfList[self.index]\n",
    "    def loop(self):\n",
    "        for i in self.etfList:\n",
    "            mycontract = Contract()\n",
    "            mycontract.symbol = i\n",
    "            mycontract.secType = \"STK\"\n",
    "            mycontract.exchange = \"SMART\"\n",
    "            mycontract.currency = \"USD\"\n",
    "            nextId = app.nextId()\n",
    "            app.reqHistoricalData(nextId, mycontract, \"20240120 09:00:00 US/Eastern\", \"1 Y\", \"1 day\", \"TRADES\", 1, 1, False, [])\n",
    "app = TestApp()\n",
    "app.connect(\"127.0.0.1\", port, 0)\n",
    "threading.Thread(target=app.run).start()\n",
    "time.sleep(1)"
   ]
  },
  {
   "cell_type": "code",
   "execution_count": null,
   "metadata": {},
   "outputs": [],
   "source": [
    "app.loop()\n",
    "te = pd.DataFrame(app.list_)\n",
    "k = list(set(te['symbol']))\n",
    "len(te), len(k)"
   ]
  },
  {
   "cell_type": "code",
   "execution_count": null,
   "metadata": {},
   "outputs": [],
   "source": [
    "te_f = te.drop_duplicates(subset=[\"symbol\", \"date\"])\n",
    "te_f.to_parquet(\"2025_v1_tickers_test.parquet\")\n",
    "len(te), len(te_f)"
   ]
  },
  {
   "cell_type": "code",
   "execution_count": null,
   "metadata": {},
   "outputs": [],
   "source": [
    "# test for missed symbols\n",
    "k = list(set(te['symbol']))\n",
    "for i in app.etfList[:]:\n",
    "    if i not in k: print(i)"
   ]
  },
  {
   "cell_type": "code",
   "execution_count": null,
   "metadata": {},
   "outputs": [],
   "source": [
    "app.loop()"
   ]
  },
  {
   "cell_type": "code",
   "execution_count": null,
   "metadata": {},
   "outputs": [],
   "source": [
    "mycontract = Contract()\n",
    "mycontract.symbol = \"AAA\"\n",
    "mycontract.secType = \"STK\"\n",
    "mycontract.exchange = \"SMART\"\n",
    "mycontract.currency = \"USD\"\n",
    "app.reqHistoricalData(app.nextId(), mycontract, \"20250120 09:00:00 US/Eastern\", \"1 Y\", \"1 day\", \"TRADES\", 1, 1, False, [])\n"
   ]
  }
 ],
 "metadata": {
  "language_info": {
   "name": "python"
  }
 },
 "nbformat": 4,
 "nbformat_minor": 2
}
