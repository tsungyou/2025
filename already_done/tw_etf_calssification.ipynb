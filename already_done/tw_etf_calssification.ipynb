{
 "cells": [
  {
   "cell_type": "code",
   "execution_count": 2,
   "metadata": {},
   "outputs": [
    {
     "data": {
      "text/plain": [
       "Index(['da', 'code', 'cl', 'hi', 'lo', 'op', 'adj', 'avg_cl', 'vol', 'vol_net',\n",
       "       'avg_count', 'avg_count_net', 'trade_count', 'turnover'],\n",
       "      dtype='object')"
      ]
     },
     "execution_count": 2,
     "metadata": {},
     "output_type": "execute_result"
    }
   ],
   "source": [
    "import pandas as pd\n",
    "import numpy as np\n",
    "import pandas as pd\n",
    "import matplotlib.pyplot as plt \n",
    "from tqdm import tqdm\n",
    "import warnings\n",
    "import statsmodels.api as sm\n",
    "import yfinance as yf\n",
    "warnings.filterwarnings(\"ignore\")\n",
    "list_ = pd.read_csv(\"../database/tw_maincode_etf__2025.csv\")\n",
    "tw_etf_code_list = list_['code'].values\n",
    "price = pd.read_parquet(\"../database/tw_price.parquet\")\n",
    "etf_price = price[price['code'].isin(tw_etf_code_list)]\n",
    "# tester\n",
    "# etf_price[etf_price['code'] == \"0050 TT Equity\"].sort_values(by='da')[['da', \"cl\"]].set_index(\"da\").plot()\n",
    "\n",
    "op_df = etf_price.pivot_table(index='da', columns=\"code\", values='op')\n",
    "hi_df = etf_price.pivot_table(index='da', columns=\"code\", values='hi')\n",
    "lo_df = etf_price.pivot_table(index='da', columns=\"code\", values='lo')\n",
    "cl_df = etf_price.pivot_table(index='da', columns=\"code\", values='cl')\n",
    "vol_df = etf_price.pivot_table(index='da', columns=\"code\", values='vol')\n",
    "to_df = etf_price.pivot_table(index='da', columns=\"code\", values='turnover')\n",
    "etf_price.columns"
   ]
  }
 ],
 "metadata": {
  "kernelspec": {
   "display_name": "Python 3",
   "language": "python",
   "name": "python3"
  },
  "language_info": {
   "codemirror_mode": {
    "name": "ipython",
    "version": 3
   },
   "file_extension": ".py",
   "mimetype": "text/x-python",
   "name": "python",
   "nbconvert_exporter": "python",
   "pygments_lexer": "ipython3",
   "version": "3.9.6"
  }
 },
 "nbformat": 4,
 "nbformat_minor": 2
}
