{
 "cells": [
  {
   "cell_type": "code",
   "execution_count": 1,
   "metadata": {},
   "outputs": [],
   "source": [
    "import pandas as pd\n",
    "import plotly.graph_objects as go # type: ignore"
   ]
  },
  {
   "cell_type": "code",
   "execution_count": 40,
   "metadata": {},
   "outputs": [],
   "source": [
    "import os\n",
    "import warnings\n",
    "warnings.filterwarnings(\"ignore\")\n",
    "os.chdir(\"../database\")\n",
    "list_ = os.listdir()\n",
    "# database: price_fund \n",
    "parquet_price_fund = []\n",
    "for i in list_:\n",
    "    if \"tw_price_fund\" in i: \n",
    "        parquet_price_fund.append(i)        \n",
    "df_list = [pd.read_parquet(i) for i in parquet_price_fund]\n",
    "unpivoted_df = pd.concat(df_list)\n",
    "twa00 = unpivoted_df[unpivoted_df['code'] == \"TWA00\"].set_index('da').sort_index(ascending=True).iloc[:, 1]"
   ]
  },
  {
   "cell_type": "code",
   "execution_count": 91,
   "metadata": {},
   "outputs": [
    {
     "data": {
      "text/plain": [
       "<Axes: xlabel='da'>"
      ]
     },
     "execution_count": 91,
     "metadata": {},
     "output_type": "execute_result"
    },
    {
     "data": {
      "image/png": "[encoded data removed]",
      "text/plain": [
       "<Figure size 640x480 with 1 Axes>"
      ]
     },
     "metadata": {},
     "output_type": "display_data"
    }
   ],
   "source": [
    "time_ = \"2018-10-15\"; end_ = '2025-01-24'\n",
    "twa00_m = twa00.pct_change().resample(\"ME\").sum()\n",
    "ln_ = twa00_m\n",
    "k = ln_.apply(lambda x: -1 if x < 0 else 1)\n",
    "pct_calculating_profit = twa00_m.shift(0)\n",
    "res = k*pct_calculating_profit.shift(0)\n",
    "\n",
    "res.cumsum().plot()"
   ]
  },
  {
   "cell_type": "code",
   "execution_count": 90,
   "metadata": {},
   "outputs": [
    {
     "data": {
      "text/plain": [
       "array([[1.        , 0.03896938],\n",
       "       [0.03896938, 1.        ]])"
      ]
     },
     "execution_count": 90,
     "metadata": {},
     "output_type": "execute_result"
    }
   ],
   "source": [
    "import numpy as np\n",
    "res_df = pd.DataFrame()\n",
    "res_df['signal'] = k\n",
    "res_df['pct'] = pct_calculating_profit\n",
    "res_df['pct'] = res_df['pct'].shift(-2)\n",
    "res_df.dropna(inplace=True)\n",
    "np.corrcoef(res_df.T)"
   ]
  },
  {
   "cell_type": "code",
   "execution_count": 48,
   "metadata": {},
   "outputs": [
    {
     "data": {
      "application/vnd.plotly.v1+json": {
       "config": {
        "plotlyServerURL": "https://plot.ly"
       },
       "data": [
        {
         "line": {
          "color": "blue"
         },
         "mode": "lines",
         "name": "Cumulative Percentage Change",
         "type": "scatter",
         "x": [
          "2016-01-31T00:00:00",
          "2016-02-29T00:00:00",
          "2016-03-31T00:00:00",
          "2016-04-30T00:00:00",
          "2016-05-31T00:00:00",
          "2016-06-30T00:00:00",
          "2016-07-31T00:00:00",
          "2016-08-31T00:00:00",
          "2016-09-30T00:00:00",
          "2016-10-31T00:00:00",
          "2016-11-30T00:00:00",
          "2016-12-31T00:00:00",
          "2017-01-31T00:00:00",
          "2017-02-28T00:00:00",
          "2017-03-31T00:00:00",
          "2017-04-30T00:00:00",
          "2017-05-31T00:00:00",
          "2017-06-30T00:00:00",
          "2017-07-31T00:00:00",
          "2017-08-31T00:00:00",
          "2017-09-30T00:00:00",
          "2017-10-31T00:00:00",
          "2017-11-30T00:00:00",
          "2017-12-31T00:00:00",
          "2018-01-31T00:00:00",
          "2018-02-28T00:00:00",
          "2018-03-31T00:00:00",
          "2018-04-30T00:00:00",
          "2018-05-31T00:00:00",
          "2018-06-30T00:00:00",
          "2018-07-31T00:00:00",
          "2018-08-31T00:00:00",
          "2018-09-30T00:00:00",
          "2018-10-31T00:00:00",
          "2018-11-30T00:00:00",
          "2018-12-31T00:00:00",
          "2019-01-31T00:00:00",
          "2019-02-28T00:00:00",
          "2019-03-31T00:00:00",
          "2019-04-30T00:00:00",
          "2019-05-31T00:00:00",
          "2019-06-30T00:00:00",
          "2019-07-31T00:00:00",
          "2019-08-31T00:00:00",
          "2019-09-30T00:00:00",
          "2019-10-31T00:00:00",
          "2019-11-30T00:00:00",
          "2019-12-31T00:00:00",
          "2020-01-31T00:00:00",
          "2020-02-29T00:00:00",
          "2020-03-31T00:00:00",
          "2020-04-30T00:00:00",
          "2020-05-31T00:00:00",
          "2020-06-30T00:00:00",
          "2020-07-31T00:00:00",
          "2020-08-31T00:00:00",
          "2020-09-30T00:00:00",
          "2020-10-31T00:00:00",
          "2020-11-30T00:00:00",
          "2020-12-31T00:00:00",
          "2021-01-31T00:00:00",
          "2021-02-28T00:00:00",
          "2021-03-31T00:00:00",
          "2021-04-30T00:00:00",
          "2021-05-31T00:00:00",
          "2021-06-30T00:00:00",
          "2021-07-31T00:00:00",
          "2021-08-31T00:00:00",
          "2021-09-30T00:00:00",
          "2021-10-31T00:00:00",
          "2021-11-30T00:00:00",
          "2021-12-31T00:00:00",
          "2022-01-31T00:00:00",
          "2022-02-28T00:00:00",
          "2022-03-31T00:00:00",
          "2022-04-30T00:00:00",
          "2022-05-31T00:00:00",
          "2022-06-30T00:00:00",
          "2022-07-31T00:00:00",
          "2022-08-31T00:00:00",
          "2022-09-30T00:00:00",
          "2022-10-31T00:00:00",
          "2022-11-30T00:00:00",
          "2022-12-31T00:00:00",
          "2023-01-31T00:00:00",
          "2023-02-28T00:00:00",
          "2023-03-31T00:00:00",
          "2023-04-30T00:00:00",
          "2023-05-31T00:00:00",
          "2023-06-30T00:00:00",
          "2023-07-31T00:00:00",
          "2023-08-31T00:00:00",
          "2023-09-30T00:00:00",
          "2023-10-31T00:00:00",
          "2023-11-30T00:00:00",
          "2023-12-31T00:00:00",
          "2024-01-31T00:00:00",
          "2024-02-29T00:00:00",
          "2024-03-31T00:00:00",
          "2024-04-30T00:00:00",
          "2024-05-31T00:00:00",
          "2024-06-30T00:00:00",
          "2024-07-31T00:00:00",
          "2024-08-31T00:00:00",
          "2024-09-30T00:00:00",
          "2024-10-31T00:00:00",
          "2024-11-30T00:00:00",
          "2024-12-31T00:00:00",
          "2025-01-31T00:00:00"
         ],
         "y": [
          null,
          -0.3178432776425546,
          0.5460246560552768,
          0.3607339496373424,
          0.42310231296368384,
          0.4171309309818282,
          0.5027766418119571,
          0.6234422421946492,
          0.40961451094190426,
          0.5375810567932737,
          0.6167820929236962,
          0.6329252143991266,
          0.36857180767423803,
          0.466977968790964,
          0.8379088896066197,
          0.6209228327652583,
          0.7538330165644251,
          0.8835432639481922,
          0.8531862032596245,
          0.9495201198159282,
          0.8686704274114043,
          0.7887354958610927,
          0.953072708700024,
          0.8861251791280997,
          0.9840211779099399,
          0.5594968090766573,
          1.2810529898482566,
          1.0911805056497403,
          1.3158744838210725,
          1.2391537175701774,
          1.3245062999644044,
          1.3766347506149574,
          1.2007793328502168,
          1.274052639872351,
          1.2475877918279088,
          1.1502724896156131,
          1.2016242927033391,
          0.8489035979492142,
          1.4228032137570703,
          1.4655914419812506,
          1.533510976901503,
          1.4008657315046351,
          1.6371156492989427,
          1.5184585372660564,
          1.4040468810556712,
          1.6055785021876092,
          1.6431951782599767,
          1.7175711135351834,
          1.4056151916462258,
          1.6364262074550278,
          1.6463313744778254,
          1.5725844627975485,
          1.6255845679819385,
          1.6819178594223736,
          1.9086400292449022,
          1.8579525747253958,
          1.8981687669853136,
          1.7730496209733464,
          1.9279875512613605,
          2.095432999266689,
          2.04267495763695,
          1.7147672540085768,
          2.4143732771131567,
          2.2824830492739476,
          2.4061708989707693,
          2.453334179054573,
          2.5236311086944094,
          2.4938450619045156,
          2.410907692240327,
          2.378637159413671,
          2.5289966628099436,
          2.5493617185916966,
          2.3853101036205246,
          2.2105684596964283,
          2.694525015737514,
          2.498112172875685,
          2.5509178216775297,
          2.532218541748396,
          2.448956990170395,
          2.585679712808232,
          2.4519985376295113,
          2.322255970119321,
          2.5028080437618954,
          2.53447754308526,
          2.1345103167378996,
          2.593591370410907,
          2.8815289551918344,
          2.624221423731587,
          2.9370480288781318,
          2.9047123300461246,
          2.960181253695722,
          2.9817787501985986,
          2.8865973166376504,
          2.8776956956958024,
          3.0149013040462727,
          3.002737229761417,
          3.0561725306725465,
          2.6786612945337827,
          3.4009210861291543,
          3.3725904850651736,
          3.5194175524015803,
          3.437981449885885,
          3.5821587028722535,
          3.567212737411058,
          3.4779211166469763,
          3.4767208511262884,
          3.574238637942088,
          3.6321283309473866,
          3.3146125846212406
         ],
         "yaxis": "y"
        },
        {
         "marker": {
          "color": "red",
          "opacity": 0.6
         },
         "name": "Information Ratio (Bar)",
         "type": "bar",
         "x": [
          "2016-01-31T00:00:00",
          "2016-02-29T00:00:00",
          "2016-03-31T00:00:00",
          "2016-04-30T00:00:00",
          "2016-05-31T00:00:00",
          "2016-06-30T00:00:00",
          "2016-07-31T00:00:00",
          "2016-08-31T00:00:00",
          "2016-09-30T00:00:00",
          "2016-10-31T00:00:00",
          "2016-11-30T00:00:00",
          "2016-12-31T00:00:00",
          "2017-01-31T00:00:00",
          "2017-02-28T00:00:00",
          "2017-03-31T00:00:00",
          "2017-04-30T00:00:00",
          "2017-05-31T00:00:00",
          "2017-06-30T00:00:00",
          "2017-07-31T00:00:00",
          "2017-08-31T00:00:00",
          "2017-09-30T00:00:00",
          "2017-10-31T00:00:00",
          "2017-11-30T00:00:00",
          "2017-12-31T00:00:00",
          "2018-01-31T00:00:00",
          "2018-02-28T00:00:00",
          "2018-03-31T00:00:00",
          "2018-04-30T00:00:00",
          "2018-05-31T00:00:00",
          "2018-06-30T00:00:00",
          "2018-07-31T00:00:00",
          "2018-08-31T00:00:00",
          "2018-09-30T00:00:00",
          "2018-10-31T00:00:00",
          "2018-11-30T00:00:00",
          "2018-12-31T00:00:00",
          "2019-01-31T00:00:00",
          "2019-02-28T00:00:00",
          "2019-03-31T00:00:00",
          "2019-04-30T00:00:00",
          "2019-05-31T00:00:00",
          "2019-06-30T00:00:00",
          "2019-07-31T00:00:00",
          "2019-08-31T00:00:00",
          "2019-09-30T00:00:00",
          "2019-10-31T00:00:00",
          "2019-11-30T00:00:00",
          "2019-12-31T00:00:00",
          "2020-01-31T00:00:00",
          "2020-02-29T00:00:00",
          "2020-03-31T00:00:00",
          "2020-04-30T00:00:00",
          "2020-05-31T00:00:00",
          "2020-06-30T00:00:00",
          "2020-07-31T00:00:00",
          "2020-08-31T00:00:00",
          "2020-09-30T00:00:00",
          "2020-10-31T00:00:00",
          "2020-11-30T00:00:00",
          "2020-12-31T00:00:00",
          "2021-01-31T00:00:00",
          "2021-02-28T00:00:00",
          "2021-03-31T00:00:00",
          "2021-04-30T00:00:00",
          "2021-05-31T00:00:00",
          "2021-06-30T00:00:00",
          "2021-07-31T00:00:00",
          "2021-08-31T00:00:00",
          "2021-09-30T00:00:00",
          "2021-10-31T00:00:00",
          "2021-11-30T00:00:00",
          "2021-12-31T00:00:00",
          "2022-01-31T00:00:00",
          "2022-02-28T00:00:00",
          "2022-03-31T00:00:00",
          "2022-04-30T00:00:00",
          "2022-05-31T00:00:00",
          "2022-06-30T00:00:00",
          "2022-07-31T00:00:00",
          "2022-08-31T00:00:00",
          "2022-09-30T00:00:00",
          "2022-10-31T00:00:00",
          "2022-11-30T00:00:00",
          "2022-12-31T00:00:00",
          "2023-01-31T00:00:00",
          "2023-02-28T00:00:00",
          "2023-03-31T00:00:00",
          "2023-04-30T00:00:00",
          "2023-05-31T00:00:00",
          "2023-06-30T00:00:00",
          "2023-07-31T00:00:00",
          "2023-08-31T00:00:00",
          "2023-09-30T00:00:00",
          "2023-10-31T00:00:00",
          "2023-11-30T00:00:00",
          "2023-12-31T00:00:00",
          "2024-01-31T00:00:00",
          "2024-02-29T00:00:00",
          "2024-03-31T00:00:00",
          "2024-04-30T00:00:00",
          "2024-05-31T00:00:00",
          "2024-06-30T00:00:00",
          "2024-07-31T00:00:00",
          "2024-08-31T00:00:00",
          "2024-09-30T00:00:00",
          "2024-10-31T00:00:00",
          "2024-11-30T00:00:00",
          "2024-12-31T00:00:00",
          "2025-01-31T00:00:00"
         ],
         "y": [
          null,
          null,
          null,
          null,
          null,
          -0.01294803037335975,
          0.21129742511539945,
          0.9939256745187228,
          -1.6042250084192153,
          0.8970026455858565,
          0.5521757220451438,
          0.11428948539498587,
          -1.4922955727269296,
          0.6167961569284379,
          1.6359061046522259,
          -0.8438241877285378,
          0.5032702691404253,
          0.618708292366132,
          -0.13919519360916519,
          0.644799065234634,
          -0.819295340601655,
          -0.8022713714832271,
          1.4822624974179754,
          -0.5789968748300737,
          0.8444291363692846,
          -1.8591383628655689,
          1.7329619989799085,
          -0.43932233547929955,
          0.5154664036732883,
          -0.17370817653248835,
          0.24061950138819369,
          0.3287041665451866,
          -1.1417098307906435,
          0.6436850537049308,
          -0.24419141349179396,
          -0.9373867944614556,
          0.49541882961168876,
          -2.0551418400931585,
          1.6883874430135535,
          0.1264224144768058,
          0.2063196350016259,
          -0.38701870354513207,
          0.8851388147349931,
          -0.7819676048191033,
          -0.7080756295825618,
          1.0766376455236257,
          0.22353995185355807,
          0.5489159262437744,
          -1.5825868698511518,
          1.066491464543835,
          0.04994860212674972,
          -0.3679746169371124,
          0.26731305673277295,
          0.5062745714836623,
          2.067484391589838,
          -0.42672726893943574,
          0.40031014015506705,
          -0.9453490411589986,
          1.074688788443072,
          1.3144931110907698,
          -0.4129959689186744,
          -1.5846398808648974,
          1.8540499148946523,
          -0.33498663975745163,
          0.3159206915750618,
          0.12196201991201427,
          0.2227286390336175,
          -0.29980119667060656,
          -1.0107559553008285,
          -0.5131102902193546,
          1.6025672938978166,
          0.22877209689473976,
          -1.3927247217825849,
          -1.2892243333656301,
          1.7828970077667994,
          -0.6833420292485647,
          0.18300811310873052,
          -0.06803694706093172,
          -0.31958927870388476,
          1.0727704353276952,
          -1.2437603932472867,
          -1.1578875201703542,
          1.1856671646178865,
          0.21656902775735504,
          -1.8470305688193858,
          1.4215784463055459,
          0.8836828462589005,
          -0.7150886802733879,
          0.8178003120566354,
          -0.1108886032643184,
          0.23428371469761275,
          0.10581209504721972,
          -0.6088982059076969,
          -0.1560064860197294,
          1.6092062808907728,
          -0.14483006948307,
          0.6184569616548564,
          -1.9129814637476343,
          1.818121312018414,
          -0.07069454031250914,
          0.3682206315411953,
          -0.19987539999886747,
          0.45133836635796476,
          -0.14174510066180154,
          -0.7617961608956544,
          -0.012785408936668666,
          1.0457797664445527,
          0.8074701212673332,
          -1.9244239962612837
         ],
         "yaxis": "y2"
        }
       ],
       "layout": {
        "legend": {
         "orientation": "h",
         "x": 1,
         "xanchor": "right",
         "y": 1.02,
         "yanchor": "bottom"
        },
        "template": {
         "data": {
          "bar": [
           {
            "error_x": {
             "color": "#2a3f5f"
            },
            "error_y": {
             "color": "#2a3f5f"
            },
            "marker": {
             "line": {
              "color": "#E5ECF6",
              "width": 0.5
             },
             "pattern": {
              "fillmode": "overlay",
              "size": 10,
              "solidity": 0.2
             }
            },
            "type": "bar"
           }
          ],
          "barpolar": [
           {
            "marker": {
             "line": {
              "color": "#E5ECF6",
              "width": 0.5
             },
             "pattern": {
              "fillmode": "overlay",
              "size": 10,
              "solidity": 0.2
             }
            },
            "type": "barpolar"
           }
          ],
          "carpet": [
           {
            "aaxis": {
             "endlinecolor": "#2a3f5f",
             "gridcolor": "white",
             "linecolor": "white",
             "minorgridcolor": "white",
             "startlinecolor": "#2a3f5f"
            },
            "baxis": {
             "endlinecolor": "#2a3f5f",
             "gridcolor": "white",
             "linecolor": "white",
             "minorgridcolor": "white",
             "startlinecolor": "#2a3f5f"
            },
            "type": "carpet"
           }
          ],
          "choropleth": [
           {
            "colorbar": {
             "outlinewidth": 0,
             "ticks": ""
            },
            "type": "choropleth"
           }
          ],
          "contour": [
           {
            "colorbar": {
             "outlinewidth": 0,
             "ticks": ""
            },
            "colorscale": [
             [
              0,
              "#0d0887"
             ],
             [
              0.1111111111111111,
              "#46039f"
             ],
             [
              0.2222222222222222,
              "#7201a8"
             ],
             [
              0.3333333333333333,
              "#9c179e"
             ],
             [
              0.4444444444444444,
              "#bd3786"
             ],
             [
              0.5555555555555556,
              "#d8576b"
             ],
             [
              0.6666666666666666,
              "#ed7953"
             ],
             [
              0.7777777777777778,
              "#fb9f3a"
             ],
             [
              0.8888888888888888,
              "#fdca26"
             ],
             [
              1,
              "#f0f921"
             ]
            ],
            "type": "contour"
           }
          ],
          "contourcarpet": [
           {
            "colorbar": {
             "outlinewidth": 0,
             "ticks": ""
            },
            "type": "contourcarpet"
           }
          ],
          "heatmap": [
           {
            "colorbar": {
             "outlinewidth": 0,
             "ticks": ""
            },
            "colorscale": [
             [
              0,
              "#0d0887"
             ],
             [
              0.1111111111111111,
              "#46039f"
             ],
             [
              0.2222222222222222,
              "#7201a8"
             ],
             [
              0.3333333333333333,
              "#9c179e"
             ],
             [
              0.4444444444444444,
              "#bd3786"
             ],
             [
              0.5555555555555556,
              "#d8576b"
             ],
             [
              0.6666666666666666,
              "#ed7953"
             ],
             [
              0.7777777777777778,
              "#fb9f3a"
             ],
             [
              0.8888888888888888,
              "#fdca26"
             ],
             [
              1,
              "#f0f921"
             ]
            ],
            "type": "heatmap"
           }
          ],
          "heatmapgl": [
           {
            "colorbar": {
             "outlinewidth": 0,
             "ticks": ""
            },
            "colorscale": [
             [
              0,
              "#0d0887"
             ],
             [
              0.1111111111111111,
              "#46039f"
             ],
             [
              0.2222222222222222,
              "#7201a8"
             ],
             [
              0.3333333333333333,
              "#9c179e"
             ],
             [
              0.4444444444444444,
              "#bd3786"
             ],
             [
              0.5555555555555556,
              "#d8576b"
             ],
             [
              0.6666666666666666,
              "#ed7953"
             ],
             [
              0.7777777777777778,
              "#fb9f3a"
             ],
             [
              0.8888888888888888,
              "#fdca26"
             ],
             [
              1,
              "#f0f921"
             ]
            ],
            "type": "heatmapgl"
           }
          ],
          "histogram": [
           {
            "marker": {
             "pattern": {
              "fillmode": "overlay",
              "size": 10,
              "solidity": 0.2
             }
            },
            "type": "histogram"
           }
          ],
          "histogram2d": [
           {
            "colorbar": {
             "outlinewidth": 0,
             "ticks": ""
            },
            "colorscale": [
             [
              0,
              "#0d0887"
             ],
             [
              0.1111111111111111,
              "#46039f"
             ],
             [
              0.2222222222222222,
              "#7201a8"
             ],
             [
              0.3333333333333333,
              "#9c179e"
             ],
             [
              0.4444444444444444,
              "#bd3786"
             ],
             [
              0.5555555555555556,
              "#d8576b"
             ],
             [
              0.6666666666666666,
              "#ed7953"
             ],
             [
              0.7777777777777778,
              "#fb9f3a"
             ],
             [
              0.8888888888888888,
              "#fdca26"
             ],
             [
              1,
              "#f0f921"
             ]
            ],
            "type": "histogram2d"
           }
          ],
          "histogram2dcontour": [
           {
            "colorbar": {
             "outlinewidth": 0,
             "ticks": ""
            },
            "colorscale": [
             [
              0,
              "#0d0887"
             ],
             [
              0.1111111111111111,
              "#46039f"
             ],
             [
              0.2222222222222222,
              "#7201a8"
             ],
             [
              0.3333333333333333,
              "#9c179e"
             ],
             [
              0.4444444444444444,
              "#bd3786"
             ],
             [
              0.5555555555555556,
              "#d8576b"
             ],
             [
              0.6666666666666666,
              "#ed7953"
             ],
             [
              0.7777777777777778,
              "#fb9f3a"
             ],
             [
              0.8888888888888888,
              "#fdca26"
             ],
             [
              1,
              "#f0f921"
             ]
            ],
            "type": "histogram2dcontour"
           }
          ],
          "mesh3d": [
           {
            "colorbar": {
             "outlinewidth": 0,
             "ticks": ""
            },
            "type": "mesh3d"
           }
          ],
          "parcoords": [
           {
            "line": {
             "colorbar": {
              "outlinewidth": 0,
              "ticks": ""
             }
            },
            "type": "parcoords"
           }
          ],
          "pie": [
           {
            "automargin": true,
            "type": "pie"
           }
          ],
          "scatter": [
           {
            "fillpattern": {
             "fillmode": "overlay",
             "size": 10,
             "solidity": 0.2
            },
            "type": "scatter"
           }
          ],
          "scatter3d": [
           {
            "line": {
             "colorbar": {
              "outlinewidth": 0,
              "ticks": ""
             }
            },
            "marker": {
             "colorbar": {
              "outlinewidth": 0,
              "ticks": ""
             }
            },
            "type": "scatter3d"
           }
          ],
          "scattercarpet": [
           {
            "marker": {
             "colorbar": {
              "outlinewidth": 0,
              "ticks": ""
             }
            },
            "type": "scattercarpet"
           }
          ],
          "scattergeo": [
           {
            "marker": {
             "colorbar": {
              "outlinewidth": 0,
              "ticks": ""
             }
            },
            "type": "scattergeo"
           }
          ],
          "scattergl": [
           {
            "marker": {
             "colorbar": {
              "outlinewidth": 0,
              "ticks": ""
             }
            },
            "type": "scattergl"
           }
          ],
          "scattermapbox": [
           {
            "marker": {
             "colorbar": {
              "outlinewidth": 0,
              "ticks": ""
             }
            },
            "type": "scattermapbox"
           }
          ],
          "scatterpolar": [
           {
            "marker": {
             "colorbar": {
              "outlinewidth": 0,
              "ticks": ""
             }
            },
            "type": "scatterpolar"
           }
          ],
          "scatterpolargl": [
           {
            "marker": {
             "colorbar": {
              "outlinewidth": 0,
              "ticks": ""
             }
            },
            "type": "scatterpolargl"
           }
          ],
          "scatterternary": [
           {
            "marker": {
             "colorbar": {
              "outlinewidth": 0,
              "ticks": ""
             }
            },
            "type": "scatterternary"
           }
          ],
          "surface": [
           {
            "colorbar": {
             "outlinewidth": 0,
             "ticks": ""
            },
            "colorscale": [
             [
              0,
              "#0d0887"
             ],
             [
              0.1111111111111111,
              "#46039f"
             ],
             [
              0.2222222222222222,
              "#7201a8"
             ],
             [
              0.3333333333333333,
              "#9c179e"
             ],
             [
              0.4444444444444444,
              "#bd3786"
             ],
             [
              0.5555555555555556,
              "#d8576b"
             ],
             [
              0.6666666666666666,
              "#ed7953"
             ],
             [
              0.7777777777777778,
              "#fb9f3a"
             ],
             [
              0.8888888888888888,
              "#fdca26"
             ],
             [
              1,
              "#f0f921"
             ]
            ],
            "type": "surface"
           }
          ],
          "table": [
           {
            "cells": {
             "fill": {
              "color": "#EBF0F8"
             },
             "line": {
              "color": "white"
             }
            },
            "header": {
             "fill": {
              "color": "#C8D4E3"
             },
             "line": {
              "color": "white"
             }
            },
            "type": "table"
           }
          ]
         },
         "layout": {
          "annotationdefaults": {
           "arrowcolor": "#2a3f5f",
           "arrowhead": 0,
           "arrowwidth": 1
          },
          "autotypenumbers": "strict",
          "coloraxis": {
           "colorbar": {
            "outlinewidth": 0,
            "ticks": ""
           }
          },
          "colorscale": {
           "diverging": [
            [
             0,
             "#8e0152"
            ],
            [
             0.1,
             "#c51b7d"
            ],
            [
             0.2,
             "#de77ae"
            ],
            [
             0.3,
             "#f1b6da"
            ],
            [
             0.4,
             "#fde0ef"
            ],
            [
             0.5,
             "#f7f7f7"
            ],
            [
             0.6,
             "#e6f5d0"
            ],
            [
             0.7,
             "#b8e186"
            ],
            [
             0.8,
             "#7fbc41"
            ],
            [
             0.9,
             "#4d9221"
            ],
            [
             1,
             "#276419"
            ]
           ],
           "sequential": [
            [
             0,
             "#0d0887"
            ],
            [
             0.1111111111111111,
             "#46039f"
            ],
            [
             0.2222222222222222,
             "#7201a8"
            ],
            [
             0.3333333333333333,
             "#9c179e"
            ],
            [
             0.4444444444444444,
             "#bd3786"
            ],
            [
             0.5555555555555556,
             "#d8576b"
            ],
            [
             0.6666666666666666,
             "#ed7953"
            ],
            [
             0.7777777777777778,
             "#fb9f3a"
            ],
            [
             0.8888888888888888,
             "#fdca26"
            ],
            [
             1,
             "#f0f921"
            ]
           ],
           "sequentialminus": [
            [
             0,
             "#0d0887"
            ],
            [
             0.1111111111111111,
             "#46039f"
            ],
            [
             0.2222222222222222,
             "#7201a8"
            ],
            [
             0.3333333333333333,
             "#9c179e"
            ],
            [
             0.4444444444444444,
             "#bd3786"
            ],
            [
             0.5555555555555556,
             "#d8576b"
            ],
            [
             0.6666666666666666,
             "#ed7953"
            ],
            [
             0.7777777777777778,
             "#fb9f3a"
            ],
            [
             0.8888888888888888,
             "#fdca26"
            ],
            [
             1,
             "#f0f921"
            ]
           ]
          },
          "colorway": [
           "#636efa",
           "#EF553B",
           "#00cc96",
           "#ab63fa",
           "#FFA15A",
           "#19d3f3",
           "#FF6692",
           "#B6E880",
           "#FF97FF",
           "#FECB52"
          ],
          "font": {
           "color": "#2a3f5f"
          },
          "geo": {
           "bgcolor": "white",
           "lakecolor": "white",
           "landcolor": "#E5ECF6",
           "showlakes": true,
           "showland": true,
           "subunitcolor": "white"
          },
          "hoverlabel": {
           "align": "left"
          },
          "hovermode": "closest",
          "mapbox": {
           "style": "light"
          },
          "paper_bgcolor": "white",
          "plot_bgcolor": "#E5ECF6",
          "polar": {
           "angularaxis": {
            "gridcolor": "white",
            "linecolor": "white",
            "ticks": ""
           },
           "bgcolor": "#E5ECF6",
           "radialaxis": {
            "gridcolor": "white",
            "linecolor": "white",
            "ticks": ""
           }
          },
          "scene": {
           "xaxis": {
            "backgroundcolor": "#E5ECF6",
            "gridcolor": "white",
            "gridwidth": 2,
            "linecolor": "white",
            "showbackground": true,
            "ticks": "",
            "zerolinecolor": "white"
           },
           "yaxis": {
            "backgroundcolor": "#E5ECF6",
            "gridcolor": "white",
            "gridwidth": 2,
            "linecolor": "white",
            "showbackground": true,
            "ticks": "",
            "zerolinecolor": "white"
           },
           "zaxis": {
            "backgroundcolor": "#E5ECF6",
            "gridcolor": "white",
            "gridwidth": 2,
            "linecolor": "white",
            "showbackground": true,
            "ticks": "",
            "zerolinecolor": "white"
           }
          },
          "shapedefaults": {
           "line": {
            "color": "#2a3f5f"
           }
          },
          "ternary": {
           "aaxis": {
            "gridcolor": "white",
            "linecolor": "white",
            "ticks": ""
           },
           "baxis": {
            "gridcolor": "white",
            "linecolor": "white",
            "ticks": ""
           },
           "bgcolor": "#E5ECF6",
           "caxis": {
            "gridcolor": "white",
            "linecolor": "white",
            "ticks": ""
           }
          },
          "title": {
           "x": 0.05
          },
          "xaxis": {
           "automargin": true,
           "gridcolor": "white",
           "linecolor": "white",
           "ticks": "",
           "title": {
            "standoff": 15
           },
           "zerolinecolor": "white",
           "zerolinewidth": 2
          },
          "yaxis": {
           "automargin": true,
           "gridcolor": "white",
           "linecolor": "white",
           "ticks": "",
           "title": {
            "standoff": 15
           },
           "zerolinecolor": "white",
           "zerolinewidth": 2
          }
         }
        },
        "title": {
         "text": "Cumulative % Change vs Information Ratio"
        },
        "xaxis": {
         "title": {
          "text": "Date"
         }
        },
        "yaxis": {
         "tickfont": {
          "color": "blue"
         },
         "title": {
          "font": {
           "color": "blue"
          },
          "text": "Cumulative % Change"
         }
        },
        "yaxis2": {
         "overlaying": "y",
         "side": "right",
         "tickfont": {
          "color": "red"
         },
         "title": {
          "font": {
           "color": "red"
          },
          "text": "Information Ratio"
         }
        }
       }
      }
     },
     "metadata": {},
     "output_type": "display_data"
    }
   ],
   "source": [
    "import matplotlib.pyplot as plt\n",
    "import yfinance as yf\n",
    "twii = yf.download(\"^TWII\", start='2016-01-01', rounding=2, progress=False)[['Close']]\n",
    "df = pd.DataFrame(twii)\n",
    "# df = pd.DataFrame(twa00)\n",
    "df.columns = [\"price\"]\n",
    "df = df.resample(\"ME\").sum()\n",
    "df['pct'] = df.price.pct_change()\n",
    "df['cumsum'] =df.pct.cumsum()\n",
    "df['stDev'] = df.pct.rolling(5).std()\n",
    "df['ir'] = df.pct/df.stDev\n",
    "fig = go.Figure()\n",
    "fig.add_trace(\n",
    "    go.Scatter(\n",
    "        x=df.index,\n",
    "        y=df['cumsum'],\n",
    "        mode=\"lines\",\n",
    "        name=\"Cumulative Percentage Change\",\n",
    "        yaxis=\"y1\",  # Map to primary y-axis\n",
    "        line=dict(color=\"blue\")\n",
    "    )\n",
    ")\n",
    "\n",
    "# Add scatter plot (or histogram) for IR\n",
    "fig.add_trace(\n",
    "    go.Bar(\n",
    "        x=df.index,\n",
    "        y=df['ir'],\n",
    "        name=\"Information Ratio (Bar)\",\n",
    "        yaxis=\"y2\",  # Map to secondary y-axis\n",
    "        marker=dict(color=\"red\", opacity=0.6)\n",
    "    )\n",
    ")\n",
    "\n",
    "# Set up layout with dual y-axes\n",
    "fig.update_layout(\n",
    "    title=\"Cumulative % Change vs Information Ratio\",\n",
    "    xaxis=dict(title=\"Date\"),\n",
    "    yaxis=dict(\n",
    "        title=\"Cumulative % Change\",\n",
    "        titlefont=dict(color=\"blue\"),\n",
    "        tickfont=dict(color=\"blue\")\n",
    "    ),\n",
    "    yaxis2=dict(\n",
    "        title=\"Information Ratio\",\n",
    "        titlefont=dict(color=\"red\"),\n",
    "        tickfont=dict(color=\"red\"),\n",
    "        overlaying=\"y\",\n",
    "        side=\"right\"  # Position y2 axis on the right\n",
    "    ),\n",
    "    legend=dict(orientation=\"h\", yanchor=\"bottom\", y=1.02, xanchor=\"right\", x=1)\n",
    ")\n",
    "\n",
    "# Show the plot\n",
    "fig.show()\n"
   ]
  },
  {
   "cell_type": "markdown",
   "metadata": {},
   "source": [
    "# 動能\n",
    "# ARMA\n",
    "# Sharpe(Time-Varying)\n",
    "# VWAP\n",
    "\n",
    "# 低波动率指数：表现最为出色，不仅回报率最高，还显著降低了波动率和回撤幅度。\n",
    "# 高股息指数：在熊市中表现出色，具有防御性特征。\n",
    "# 动量指数：在牛市中表现更好，但在熊市中可能表现不佳。"
   ]
  },
  {
   "cell_type": "code",
   "execution_count": 104,
   "metadata": {},
   "outputs": [
    {
     "name": "stderr",
     "output_type": "stream",
     "text": [
      "[*********************100%***********************]  1 of 1 completed\n"
     ]
    },
    {
     "data": {
      "image/png": "[encoded data removed]",
      "text/plain": [
       "<Figure size 1200x600 with 1 Axes>"
      ]
     },
     "metadata": {},
     "output_type": "display_data"
    },
    {
     "data": {
      "image/png": "[encoded data removed]",
      "text/plain": [
       "<Figure size 1200x600 with 1 Axes>"
      ]
     },
     "metadata": {},
     "output_type": "display_data"
    }
   ],
   "source": [
    "import numpy as np\n",
    "import pandas as pd\n",
    "import yfinance as yf\n",
    "from sklearn.covariance import LedoitWolf\n",
    "import matplotlib.pyplot as plt\n",
    "\n",
    "# Step 1: Load data (TAIEX)\n",
    "data = yf.download(\"^TWII\", start='2016-01-01')\n",
    "returns = data[\"Close\"].pct_change().dropna()\n",
    "\n",
    "# Reshape returns to 2D as required by LedoitWolf\n",
    "returns_2d = returns.values.reshape(-1, 1)\n",
    "\n",
    "# Step 2: Covariance Matrix\n",
    "cov_matrix = np.cov(returns_2d, rowvar=False)\n",
    "lw = LedoitWolf()\n",
    "cov_matrix_shrinked = lw.fit(returns_2d).covariance_\n",
    "\n",
    "# Step 3: Spectral Decomposition\n",
    "eigenvalues, eigenvectors = np.linalg.eigh(cov_matrix_shrinked)\n",
    "dominant_factors = eigenvectors[:, -1:]  # Retain the top factor\n",
    "\n",
    "# Factor Signal as a Training Signal\n",
    "factor_signal = (returns_2d @ dominant_factors).flatten()  # Flatten to 1D for element-wise multiplication\n",
    "\n",
    "# Multiply Factor Signal with Returns\n",
    "training_signal = factor_signal * returns.values  # Element-wise multiplication\n",
    "\n",
    "# Normalize Training Signal (optional, for scaling purposes)\n",
    "normalized_signal = training_signal / np.std(training_signal)\n",
    "\n",
    "# Plot Training Signal\n",
    "plt.figure(figsize=(12, 6))\n",
    "plt.plot(data.index[1:], normalized_signal, label=\"Training Signal\", color=\"blue\")\n",
    "plt.title(\"Training Signal Derived from Dominant Factor\")\n",
    "plt.xlabel(\"Date\")\n",
    "plt.ylabel(\"Signal Value\")\n",
    "plt.legend()\n",
    "plt.show()\n",
    "\n",
    "# Optional: Use training_signal as weights in a portfolio\n",
    "signal = [-1 if i > 2 else 1 for i in normalized_signal]\n",
    "\n",
    "portfolio_returns = signal * returns.values  # Simulated weighted returns\n",
    "cumulative_returns = np.cumsum(portfolio_returns)\n",
    "\n",
    "# Plot Portfolio Performance\n",
    "plt.figure(figsize=(12, 6))\n",
    "plt.plot(data.index[1:], cumulative_returns, label=\"Cumulative Portfolio Returns\", color=\"green\")\n",
    "plt.plot(data.index[1:], data['Close'].pct_change().cumsum().dropna(), label=\"BM\", color=\"red\")\n",
    "plt.title(\"Portfolio Returns Using Training Signal\")\n",
    "plt.xlabel(\"Date\")\n",
    "plt.ylabel(\"Cumulative Returns\")\n",
    "plt.legend()\n",
    "plt.show()\n"
   ]
  }
 ],
 "metadata": {
  "kernelspec": {
   "display_name": "Python 3",
   "language": "python",
   "name": "python3"
  },
  "language_info": {
   "codemirror_mode": {
    "name": "ipython",
    "version": 3
   },
   "file_extension": ".py",
   "mimetype": "text/x-python",
   "name": "python",
   "nbconvert_exporter": "python",
   "pygments_lexer": "ipython3",
   "version": "3.9.6"
  }
 },
 "nbformat": 4,
 "nbformat_minor": 2
}
