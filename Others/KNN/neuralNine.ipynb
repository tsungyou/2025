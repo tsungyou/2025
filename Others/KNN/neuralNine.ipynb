{
 "cells": [
  {
   "cell_type": "code",
   "execution_count": 2,
   "metadata": {},
   "outputs": [],
   "source": [
    "import numpy as np\n",
    "import matplotlib.pyplot as plt\n",
    "from collections import Counter\n",
    "\n",
    "points = {\n",
    "    \"blue\": [[2,4], [1,3], [2,3], [3,2], [2,1]],\n",
    "    \"blue\": [[5,6], [4,5], [4,6], [6,6], [5,4]]\n",
    "}\n",
    "\n",
    "new_point = [3,3]\n",
    "\n",
    "def euclidean_distance(p, q):\n",
    "    return np.sqrt(\n",
    "        np.sum(\n",
    "            (np.array(p)-np.array(q))**2\n",
    "        )\n",
    "    )"
   ]
  },
  {
   "cell_type": "code",
   "execution_count": 3,
   "metadata": {},
   "outputs": [
    {
     "name": "stdout",
     "output_type": "stream",
     "text": [
      "blue\n"
     ]
    }
   ],
   "source": [
    "class KNearestNeighbors:\n",
    "    def __init__(self, k=3):\n",
    "        self.k = k\n",
    "        self.point = None\n",
    "    \n",
    "    def fit(self, points):\n",
    "        self.points = points\n",
    "    \n",
    "    def predict(self, new_point):\n",
    "        distances = []\n",
    "\n",
    "        for category in self.points:\n",
    "            for point in self.points[category]:\n",
    "                distance = euclidean_distance(point, new_point)\n",
    "                distances.append([distance, category])\n",
    "        \n",
    "        categories = [category[1] for category in sorted(distances)[:self.k]]\n",
    "        result = Counter(categories).most_common(1)[0][0]\n",
    "        return result\n",
    "    \n",
    "clf = KNearestNeighbors()\n",
    "clf.fit(points=points)\n",
    "print(clf.predict(new_point=new_point))\n"
   ]
  }
 ],
 "metadata": {
  "kernelspec": {
   "display_name": "Python 3",
   "language": "python",
   "name": "python3"
  },
  "language_info": {
   "codemirror_mode": {
    "name": "ipython",
    "version": 3
   },
   "file_extension": ".py",
   "mimetype": "text/x-python",
   "name": "python",
   "nbconvert_exporter": "python",
   "pygments_lexer": "ipython3",
   "version": "3.9.6"
  }
 },
 "nbformat": 4,
 "nbformat_minor": 2
}
