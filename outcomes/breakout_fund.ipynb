{
 "cells": [
  {
   "cell_type": "code",
   "execution_count": 2,
   "metadata": {},
   "outputs": [],
   "source": [
    "import psycopg2 # type: ignore\n",
    "import matplotlib.pyplot as plt # type: ignore\n",
    "import pandas as pd # type: ignore\n",
    "from tqdm import tqdm # type: ignore\n",
    "import numpy as np # type: ignore\n",
    "import pandas as pd # type: ignore\n",
    "import plotly.graph_objects as go # type: ignore\n",
    "import yfinance as yf # type: ignore\n",
    "import os\n",
    "import warnings\n",
    "warnings.filterwarnings(\"ignore\")\n",
    "os.chdir(\"../database\")\n",
    "list_ = os.listdir()"
   ]
  },
  {
   "cell_type": "code",
   "execution_count": 24,
   "metadata": {},
   "outputs": [],
   "source": [
    "# database: price_fund \n",
    "parquet_price_fund = []\n",
    "for i in list_:\n",
    "    if \"tw_price_fund\" in i: \n",
    "        parquet_price_fund.append(i)        \n",
    "df_list = [pd.read_parquet(i) for i in parquet_price_fund]\n",
    "unpivoted_df = pd.concat(df_list)\n",
    "# database: maincode_fund\n",
    "fund_type_code_df = pd.read_csv(\"tw_maincode_fund__2025.csv\")[['code', \"fund_type_code\"]]"
   ]
  },
  {
   "cell_type": "code",
   "execution_count": null,
   "metadata": {},
   "outputs": [],
   "source": [
    "fund"
   ]
  },
  {
   "cell_type": "code",
   "execution_count": 30,
   "metadata": {},
   "outputs": [
    {
     "data": {
      "text/plain": [
       "'AA1'"
      ]
     },
     "execution_count": 30,
     "metadata": {},
     "output_type": "execute_result"
    }
   ],
   "source": [
    "fund_type_code_df[fund_type_code_df['code'] == int('00968493')]['fund_type_code'].values[0]"
   ]
  },
  {
   "cell_type": "code",
   "execution_count": null,
   "metadata": {},
   "outputs": [],
   "source": [
    "def easy_breakout(df, beck, top_n=1, type_=\"AE21\"):\n",
    "   \n",
    "    tdf = df[df['fund_type'] == type_].pivot(values='nav', index='da', columns='code')  \n",
    "    tdf = tdf.ffill().fillna(0)\n",
    "    \n",
    "    pct_change = tdf.pct_change()\n",
    "    pct_change[(pct_change > 0.1) | (pct_change < -0.1)] = 0 \n",
    "   \n",
    "    holdings = []\n",
    "    cumulative_returns = pd.DataFrame(index=tdf.index)  \n",
    "\n",
    "   \n",
    "    for i in range(1, len(tdf)):\n",
    "        cumulative_returns = cumulative_returns.shift(1).fillna(0) + pct_change\n",
    "        best_stocks = cumulative_returns.iloc[i].nlargest(top_n).index \n",
    "        holdings.append(list(best_stocks)) \n",
    "    \n",
    "    i = 20\n",
    "    pct_change = pct_change.shift(i)\n",
    "    pct_change['Best_Holding'] = [None] + holdings\n",
    "    holds = \"\"\n",
    "    holdings_dict = {}\n",
    "    \n",
    "    for index, row in pct_change[['Best_Holding']].iterrows():\n",
    "        if row['Best_Holding'] == None: continue\n",
    "        current_holdings = set(row['Best_Holding']) \n",
    "        if holds != current_holdings:\n",
    "            holdings_dict[index] = current_holdings \n",
    "            holds = current_holdings\n",
    "\n",
    "    pct_change = pct_change.iloc[2+i:, :]\n",
    "        \n",
    "    pct_change['ret'] = pct_change.apply(lambda row: row[row['Best_Holding']].mean(), axis=1)\n",
    "   \n",
    "    fig = go.Figure()\n",
    "   \n",
    "    fig.add_trace(go.Scatter(\n",
    "        x=pct_change.index,\n",
    "        y=pct_change['ret'].cumsum(),\n",
    "        mode=\"lines\",\n",
    "        line=dict(color=\"green\"),\n",
    "        yaxis=\"y1\",\n",
    "        name=\"Strategy Return\"\n",
    "    ))\n",
    "\n",
    "    beck = beck.loc[:].pct_change().cumsum()\n",
    "    beck.columns = ['pct_change']\n",
    "    fig.add_trace(go.Scatter(\n",
    "        x=beck.index,\n",
    "        y=beck[\"pct_change\"],\n",
    "        name=\"Benchmark\",\n",
    "        mode=\"lines\",\n",
    "        line=dict(color=\"orange\"),\n",
    "        yaxis=\"y1\"\n",
    "    ))\n",
    "    \n",
    "    fig.update_layout(\n",
    "        title=\"Strategy and Benchmark Performance\",\n",
    "        xaxis=dict(title=\"Date\"),\n",
    "        yaxis=dict(\n",
    "            title=\"Strategy Return\",\n",
    "            titlefont=dict(color=\"blue\"),\n",
    "            tickfont=dict(color=\"blue\"),\n",
    "        ),\n",
    "        yaxis2=dict(\n",
    "            title=\"Benchmark\",\n",
    "            titlefont=dict(color=\"orange\"),\n",
    "            tickfont=dict(color=\"orange\"),\n",
    "            overlaying=\"y\", \n",
    "            side=\"right\" \n",
    "        ),\n",
    "        legend=dict(orientation=\"h\", yanchor=\"bottom\", y=1.02, xanchor=\"right\", x=1),\n",
    "        template=\"plotly_white\"\n",
    "    )\n",
    "\n",
    "    fig.show()\n",
    "    return holdings_dict\n",
    "\n",
    "\n",
    "config = {\n",
    "    \"host\": \"10.188.200.16\",\n",
    "    \"dbname\": \"tw\",\n",
    "    \"user\": \"jimmy\",\n",
    "    \"password\": \"123123\"\n",
    "}\n",
    "conn = psycopg2.connect(**config)\n",
    "cursor = conn.cursor()\n",
    "\n",
    "beck = yf.download(\"0050.TW\", start='2020-01-01', progress=False, rounding=2)['Adj Close']\n",
    "holdings_dict = easy_breakout(df, beck, top_n=3, type_='AA2')\n"
   ]
  }
 ],
 "metadata": {
  "kernelspec": {
   "display_name": "Python 3",
   "language": "python",
   "name": "python3"
  },
  "language_info": {
   "codemirror_mode": {
    "name": "ipython",
    "version": 3
   },
   "file_extension": ".py",
   "mimetype": "text/x-python",
   "name": "python",
   "nbconvert_exporter": "python",
   "pygments_lexer": "ipython3",
   "version": "3.9.6"
  }
 },
 "nbformat": 4,
 "nbformat_minor": 2
}
